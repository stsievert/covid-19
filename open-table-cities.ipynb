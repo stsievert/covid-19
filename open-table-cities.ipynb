{
 "cells": [
  {
   "cell_type": "code",
   "execution_count": 1,
   "metadata": {},
   "outputs": [],
   "source": [
    "import requests"
   ]
  },
  {
   "cell_type": "code",
   "execution_count": 2,
   "metadata": {},
   "outputs": [],
   "source": [
    "html = requests.get(\"https://www.opentable.com/state-of-industry\").text\n",
    "    "
   ]
  },
  {
   "cell_type": "code",
   "execution_count": 3,
   "metadata": {},
   "outputs": [],
   "source": [
    "from bs4 import BeautifulSoup"
   ]
  },
  {
   "cell_type": "code",
   "execution_count": 4,
   "metadata": {},
   "outputs": [
    {
     "data": {
      "text/plain": [
       "str"
      ]
     },
     "execution_count": 4,
     "metadata": {},
     "output_type": "execute_result"
    }
   ],
   "source": [
    "soup = BeautifulSoup(html)\n",
    "scripts = soup.find_all(name=\"script\")\n",
    "charts = [s for s in scripts if \"covidDataCenter\" in s.text]\n",
    "assert len(charts) == 1\n",
    "chart = charts[0].text\n",
    "type(chart)"
   ]
  },
  {
   "cell_type": "code",
   "execution_count": 5,
   "metadata": {},
   "outputs": [
    {
     "name": "stdout",
     "output_type": "stream",
     "text": [
      "26537\n",
      "26536\n"
     ]
    }
   ],
   "source": [
    "text = 'covidDataCenter\":'\n",
    "i = chart.find(text)\n",
    "raw = chart[i + len(text):]\n",
    "j = raw.find(\";\")\n",
    "print(j)\n",
    "raw = raw[:j - 1]\n",
    "print(len(raw))"
   ]
  },
  {
   "cell_type": "code",
   "execution_count": 6,
   "metadata": {},
   "outputs": [],
   "source": [
    "import json\n",
    "data = json.loads(raw)"
   ]
  },
  {
   "cell_type": "code",
   "execution_count": 7,
   "metadata": {},
   "outputs": [],
   "source": [
    "dates = data[\"headers\"]\n",
    "city_data = {d[\"name\"]: d[\"yoy\"] for d in data[\"cities\"]}"
   ]
  },
  {
   "cell_type": "code",
   "execution_count": 8,
   "metadata": {},
   "outputs": [
    {
     "data": {
      "text/plain": [
       "'2/18'"
      ]
     },
     "execution_count": 8,
     "metadata": {},
     "output_type": "execute_result"
    }
   ],
   "source": [
    "dates[0]"
   ]
  },
  {
   "cell_type": "code",
   "execution_count": 9,
   "metadata": {},
   "outputs": [],
   "source": [
    "from datetime import datetime, timedelta\n",
    "datetimes = [datetime(2020, *map(int, x.split(\"/\"))) for x in dates]"
   ]
  },
  {
   "cell_type": "code",
   "execution_count": 10,
   "metadata": {},
   "outputs": [
    {
     "data": {
      "text/html": [
       "<div>\n",
       "<style scoped>\n",
       "    .dataframe tbody tr th:only-of-type {\n",
       "        vertical-align: middle;\n",
       "    }\n",
       "\n",
       "    .dataframe tbody tr th {\n",
       "        vertical-align: top;\n",
       "    }\n",
       "\n",
       "    .dataframe thead th {\n",
       "        text-align: right;\n",
       "    }\n",
       "</style>\n",
       "<table border=\"1\" class=\"dataframe\">\n",
       "  <thead>\n",
       "    <tr style=\"text-align: right;\">\n",
       "      <th></th>\n",
       "      <th>Atlanta</th>\n",
       "      <th>Austin</th>\n",
       "      <th>Baltimore</th>\n",
       "      <th>Boston</th>\n",
       "      <th>Calgary</th>\n",
       "      <th>Charlotte</th>\n",
       "      <th>Chicago</th>\n",
       "      <th>Cincinnati</th>\n",
       "      <th>Ciudad de México</th>\n",
       "      <th>Columbus</th>\n",
       "      <th>...</th>\n",
       "      <th>San Antonio</th>\n",
       "      <th>San Diego</th>\n",
       "      <th>San Francisco</th>\n",
       "      <th>San Pedro Garza García</th>\n",
       "      <th>Scottsdale</th>\n",
       "      <th>Seattle</th>\n",
       "      <th>Tampa</th>\n",
       "      <th>Toronto</th>\n",
       "      <th>Vancouver</th>\n",
       "      <th>Washington</th>\n",
       "    </tr>\n",
       "  </thead>\n",
       "  <tbody>\n",
       "    <tr>\n",
       "      <th>0</th>\n",
       "      <td>6</td>\n",
       "      <td>0</td>\n",
       "      <td>10</td>\n",
       "      <td>5</td>\n",
       "      <td>0</td>\n",
       "      <td>1</td>\n",
       "      <td>-7</td>\n",
       "      <td>7</td>\n",
       "      <td>-8</td>\n",
       "      <td>-10</td>\n",
       "      <td>...</td>\n",
       "      <td>-6</td>\n",
       "      <td>-1</td>\n",
       "      <td>-15</td>\n",
       "      <td>-9</td>\n",
       "      <td>-3</td>\n",
       "      <td>8</td>\n",
       "      <td>7</td>\n",
       "      <td>-14</td>\n",
       "      <td>9</td>\n",
       "      <td>-5</td>\n",
       "    </tr>\n",
       "    <tr>\n",
       "      <th>1</th>\n",
       "      <td>9</td>\n",
       "      <td>-6</td>\n",
       "      <td>42</td>\n",
       "      <td>15</td>\n",
       "      <td>4</td>\n",
       "      <td>-3</td>\n",
       "      <td>-3</td>\n",
       "      <td>1</td>\n",
       "      <td>-9</td>\n",
       "      <td>0</td>\n",
       "      <td>...</td>\n",
       "      <td>-4</td>\n",
       "      <td>9</td>\n",
       "      <td>-11</td>\n",
       "      <td>-12</td>\n",
       "      <td>-3</td>\n",
       "      <td>11</td>\n",
       "      <td>5</td>\n",
       "      <td>-8</td>\n",
       "      <td>1</td>\n",
       "      <td>57</td>\n",
       "    </tr>\n",
       "    <tr>\n",
       "      <th>2</th>\n",
       "      <td>-5</td>\n",
       "      <td>2</td>\n",
       "      <td>12</td>\n",
       "      <td>-3</td>\n",
       "      <td>5</td>\n",
       "      <td>-27</td>\n",
       "      <td>-5</td>\n",
       "      <td>-6</td>\n",
       "      <td>-2</td>\n",
       "      <td>-3</td>\n",
       "      <td>...</td>\n",
       "      <td>-5</td>\n",
       "      <td>7</td>\n",
       "      <td>-4</td>\n",
       "      <td>-5</td>\n",
       "      <td>5</td>\n",
       "      <td>6</td>\n",
       "      <td>2</td>\n",
       "      <td>-9</td>\n",
       "      <td>7</td>\n",
       "      <td>9</td>\n",
       "    </tr>\n",
       "    <tr>\n",
       "      <th>3</th>\n",
       "      <td>-5</td>\n",
       "      <td>3</td>\n",
       "      <td>-9</td>\n",
       "      <td>-12</td>\n",
       "      <td>0</td>\n",
       "      <td>-1</td>\n",
       "      <td>-4</td>\n",
       "      <td>-6</td>\n",
       "      <td>-3</td>\n",
       "      <td>-6</td>\n",
       "      <td>...</td>\n",
       "      <td>2</td>\n",
       "      <td>-1</td>\n",
       "      <td>-8</td>\n",
       "      <td>4</td>\n",
       "      <td>6</td>\n",
       "      <td>1</td>\n",
       "      <td>-4</td>\n",
       "      <td>-9</td>\n",
       "      <td>6</td>\n",
       "      <td>0</td>\n",
       "    </tr>\n",
       "    <tr>\n",
       "      <th>4</th>\n",
       "      <td>-3</td>\n",
       "      <td>2</td>\n",
       "      <td>12</td>\n",
       "      <td>-2</td>\n",
       "      <td>11</td>\n",
       "      <td>0</td>\n",
       "      <td>7</td>\n",
       "      <td>-8</td>\n",
       "      <td>0</td>\n",
       "      <td>-8</td>\n",
       "      <td>...</td>\n",
       "      <td>-6</td>\n",
       "      <td>-12</td>\n",
       "      <td>-9</td>\n",
       "      <td>10</td>\n",
       "      <td>-5</td>\n",
       "      <td>1</td>\n",
       "      <td>11</td>\n",
       "      <td>-4</td>\n",
       "      <td>7</td>\n",
       "      <td>9</td>\n",
       "    </tr>\n",
       "  </tbody>\n",
       "</table>\n",
       "<p>5 rows × 48 columns</p>\n",
       "</div>"
      ],
      "text/plain": [
       "   Atlanta  Austin  Baltimore  Boston  Calgary  Charlotte  Chicago  \\\n",
       "0        6       0         10       5        0          1       -7   \n",
       "1        9      -6         42      15        4         -3       -3   \n",
       "2       -5       2         12      -3        5        -27       -5   \n",
       "3       -5       3         -9     -12        0         -1       -4   \n",
       "4       -3       2         12      -2       11          0        7   \n",
       "\n",
       "   Cincinnati  Ciudad de México  Columbus  ...  San Antonio  San Diego  \\\n",
       "0           7                -8       -10  ...           -6         -1   \n",
       "1           1                -9         0  ...           -4          9   \n",
       "2          -6                -2        -3  ...           -5          7   \n",
       "3          -6                -3        -6  ...            2         -1   \n",
       "4          -8                 0        -8  ...           -6        -12   \n",
       "\n",
       "   San Francisco  San Pedro Garza García  Scottsdale  Seattle  Tampa  Toronto  \\\n",
       "0            -15                      -9          -3        8      7      -14   \n",
       "1            -11                     -12          -3       11      5       -8   \n",
       "2             -4                      -5           5        6      2       -9   \n",
       "3             -8                       4           6        1     -4       -9   \n",
       "4             -9                      10          -5        1     11       -4   \n",
       "\n",
       "   Vancouver  Washington  \n",
       "0          9          -5  \n",
       "1          1          57  \n",
       "2          7           9  \n",
       "3          6           0  \n",
       "4          7           9  \n",
       "\n",
       "[5 rows x 48 columns]"
      ]
     },
     "execution_count": 10,
     "metadata": {},
     "output_type": "execute_result"
    }
   ],
   "source": [
    "import pandas as pd\n",
    "df = pd.DataFrame(city_data)\n",
    "df.head()"
   ]
  },
  {
   "cell_type": "code",
   "execution_count": 11,
   "metadata": {},
   "outputs": [],
   "source": [
    "df.to_csv(\"data/open-table-cities.csv\", index=False)"
   ]
  },
  {
   "cell_type": "code",
   "execution_count": 12,
   "metadata": {},
   "outputs": [
    {
     "data": {
      "text/plain": [
       "Index(['Atlanta', 'Austin', 'Baltimore', 'Boston', 'Calgary', 'Charlotte',\n",
       "       'Chicago', 'Cincinnati', 'Ciudad de México', 'Columbus', 'Dallas',\n",
       "       'Denver', 'Dublin', 'Edmonton', 'Fort Lauderdale', 'Hamburg',\n",
       "       'Honolulu', 'Houston', 'Indianapolis', 'Las Vegas', 'London',\n",
       "       'Los Angeles', 'Louisville', 'Miami', 'Miami Beach', 'Minneapolis',\n",
       "       'Montréal', 'München', 'Naples', 'Nashville', 'New Orleans', 'New York',\n",
       "       'Orlando', 'Philadelphia', 'Phoenix', 'Pittsburgh', 'Portland',\n",
       "       'Raleigh', 'San Antonio', 'San Diego', 'San Francisco',\n",
       "       'San Pedro Garza García', 'Scottsdale', 'Seattle', 'Tampa', 'Toronto',\n",
       "       'Vancouver', 'Washington'],\n",
       "      dtype='object')"
      ]
     },
     "execution_count": 12,
     "metadata": {},
     "output_type": "execute_result"
    }
   ],
   "source": [
    "df.columns"
   ]
  },
  {
   "cell_type": "code",
   "execution_count": 13,
   "metadata": {},
   "outputs": [
    {
     "data": {
      "text/plain": [
       "Atlanta             200\n",
       "Boston              200\n",
       "Dallas              200\n",
       "Denver              200\n",
       "Houston             200\n",
       "Las Vegas           200\n",
       "Los Angeles         200\n",
       "Philadelphia        200\n",
       "San Diego           200\n",
       "San Francisco       200\n",
       "Washington          200\n",
       "Chicago             300\n",
       "Ciudad de México    300\n",
       "New York            600\n",
       "London              700\n",
       "dtype: int64"
      ]
     },
     "execution_count": 13,
     "metadata": {},
     "output_type": "execute_result"
    }
   ],
   "source": [
    "n_restaurants = {d[\"name\"]: int(d[\"size\"]) for d in data[\"cities\"] if int(d[\"size\"]) >= 200}\n",
    "pd.Series(n_restaurants).sort_values()"
   ]
  },
  {
   "cell_type": "code",
   "execution_count": 14,
   "metadata": {},
   "outputs": [],
   "source": [
    "to_show = [\n",
    "#     \"Chicago\",\n",
    "#     \"Vancouver\",\n",
    "    \"Ciudad de México\",\n",
    "    \"London\",\n",
    "    \"Seattle\",\n",
    "    \"New York\",\n",
    "#     \"Washington\",\n",
    "]"
   ]
  },
  {
   "cell_type": "code",
   "execution_count": 15,
   "metadata": {},
   "outputs": [],
   "source": [
    "show = df[to_show].copy()"
   ]
  },
  {
   "cell_type": "code",
   "execution_count": 16,
   "metadata": {},
   "outputs": [
    {
     "data": {
      "image/png": "[encoded data removed]",
      "text/plain": [
       "<Figure size 345.6x288 with 1 Axes>"
      ]
     },
     "metadata": {
      "image/png": {
       "height": 285,
       "width": 344
      },
      "needs_background": "light"
     },
     "output_type": "display_data"
    }
   ],
   "source": [
    "import matplotlib.pyplot as plt\n",
    "import matplotlib.dates as mdates\n",
    "import numpy as np\n",
    "w = 4\n",
    "fig, ax = plt.subplots(figsize=(1.2 * w, w))\n",
    "\n",
    "for city in show:\n",
    "    label = city\n",
    "    if \"xico\" in label:\n",
    "        label = \"Mexico City\"\n",
    "    kwargs = {}\n",
    "    if city == \"New York\":\n",
    "        kwargs = {\"linewidth\": 3}\n",
    "    ax.plot(datetimes, show[city], \"o-\", label=label, **kwargs)\n",
    "\n",
    "ticks = (-np.arange(5) * 20).tolist()\n",
    "ticks.extend([-90, -95, -100, 20])\n",
    "ax.yaxis.set_major_locator(plt.FixedLocator(ticks))\n",
    "weeks = pd.date_range(datetime(2020, 2, 15), datetime.now() + timedelta(7), freq=\"7D\")\n",
    "ax.xaxis.set_major_formatter(mdates.DateFormatter(\"%b.\\n%d\"))\n",
    "ax.xaxis.set_major_locator(plt.FixedLocator([mdates.date2num(w) for w in weeks]))\n",
    "ax.grid(alpha=0.6)\n",
    "ax.legend(loc=\"best\")\n",
    "ax.set_ylabel(\"Percentage down\\nfrom 2019\")\n",
    "ax.set_title(\"Cities\")\n",
    "ax.set_ylim(-100, None)\n",
    "xlim = ax.get_xlim()\n",
    "ax.text(xlim[1] - 16, -120, \"© Scott Sievert\", color=\"#\" + \"8\" * 6)\n",
    "ax.set_title(\"City restaurant reservations\")\n",
    "fig.savefig(\"imgs/opentable-cities.svg\", bbox_inches=\"tight\")\n",
    "fig.savefig(\"imgs/opentable-cities.png\", bbox_inches=\"tight\", dpi=300)"
   ]
  },
  {
   "cell_type": "code",
   "execution_count": null,
   "metadata": {},
   "outputs": [],
   "source": []
  },
  {
   "cell_type": "code",
   "execution_count": null,
   "metadata": {},
   "outputs": [],
   "source": []
  }
 ],
 "metadata": {
  "kernelspec": {
   "display_name": "Python 3",
   "language": "python",
   "name": "python3"
  },
  "language_info": {
   "codemirror_mode": {
    "name": "ipython",
    "version": 3
   },
   "file_extension": ".py",
   "mimetype": "text/x-python",
   "name": "python",
   "nbconvert_exporter": "python",
   "pygments_lexer": "ipython3",
   "version": "3.7.4"
  }
 },
 "nbformat": 4,
 "nbformat_minor": 4
}
