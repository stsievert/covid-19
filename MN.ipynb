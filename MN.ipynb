{
 "cells": [
  {
   "cell_type": "code",
   "execution_count": 1,
   "metadata": {},
   "outputs": [
    {
     "data": {
      "text/plain": [
       "'hi'"
      ]
     },
     "execution_count": 1,
     "metadata": {},
     "output_type": "execute_result"
    }
   ],
   "source": [
    "\"hi\""
   ]
  },
  {
   "cell_type": "code",
   "execution_count": 2,
   "metadata": {},
   "outputs": [],
   "source": [
    "import pandas as pd\n",
    "url = \"https://www.health.state.mn.us/diseases/coronavirus/situation.html#hosp1\"\n",
    "\n",
    "dfs = pd.read_html(url)"
   ]
  },
  {
   "cell_type": "code",
   "execution_count": 3,
   "metadata": {},
   "outputs": [
    {
     "name": "stdout",
     "output_type": "stream",
     "text": [
      "Index(['Date reported',\n",
      "       'Completed tests reported from the MDH Public Health Lab (daily)',\n",
      "       'Completed tests reported from external laboratories (daily)',\n",
      "       'Total approximate number of completed tests'],\n",
      "      dtype='object')\n",
      "Index(['Date reported', 'Change in positive cases (daily)',\n",
      "       'Total confirmed positive'],\n",
      "      dtype='object')\n",
      "Index(['Date reported', 'No longer needing isolation'], dtype='object')\n",
      "Index(['Date reported', 'Newly reported deaths (daily)', 'Total deaths'], dtype='object')\n",
      "Index(['County of residence', 'Age group', 'Number of newly reported deaths'], dtype='object')\n",
      "Index(['Residence type', 'Number of newly reported deaths'], dtype='object')\n",
      "Index(['Date reported', 'Hospitalized in ICU (daily)',\n",
      "       'Hospitalized, not in ICU (daily)', 'Total hospitalizations',\n",
      "       'Total ICU hospitalizations'],\n",
      "      dtype='object')\n",
      "Index(['Age Group', 'Percent of Cases', 'Percent of Deaths'], dtype='object')\n",
      "Int64Index([0, 1, 2], dtype='int64')\n",
      "Index(['Race', 'Percent of Cases', 'Percent of Deaths'], dtype='object')\n",
      "Index(['Likely Exposure', 'Percent of Cases'], dtype='object')\n",
      "Index(['County', 'Cases', 'Deaths'], dtype='object')\n",
      "Index(['Residence Type', 'Percent of Cases'], dtype='object')\n",
      "Index(['County', 'Facility'], dtype='object')\n"
     ]
    }
   ],
   "source": [
    "for df in dfs:\n",
    "    print(df.columns)"
   ]
  },
  {
   "cell_type": "code",
   "execution_count": 4,
   "metadata": {},
   "outputs": [
    {
     "name": "stdout",
     "output_type": "stream",
     "text": [
      "Index(['Date reported', 'Hospitalized in ICU (daily)',\n",
      "       'Hospitalized, not in ICU (daily)', 'Total hospitalizations',\n",
      "       'Total ICU hospitalizations'],\n",
      "      dtype='object')\n"
     ]
    }
   ],
   "source": [
    "# Want: deaths, ICU/hosp, new cases\n",
    "\n",
    "cases = dfs[1]\n",
    "assert \"Change in positive cases (daily)\" in cases.columns\n",
    "assert \"Total confirmed positive\" in cases.columns\n",
    "deaths = dfs[3]\n",
    "assert \"Newly reported deaths (daily)\" in deaths.columns\n",
    "assert \"Total deaths\" in deaths.columns\n",
    "\n",
    "icu = dfs[6]\n",
    "print(icu.columns)\n",
    "assert \"Hospitalized in ICU (daily)\" in icu.columns\n",
    "assert \"Total ICU hospitalizations\" in icu.columns"
   ]
  },
  {
   "cell_type": "code",
   "execution_count": 5,
   "metadata": {},
   "outputs": [],
   "source": [
    "df = pd.merge(cases, deaths, on=\"Date reported\")\n",
    "df = pd.merge(df, icu, on=\"Date reported\")"
   ]
  },
  {
   "cell_type": "code",
   "execution_count": 6,
   "metadata": {},
   "outputs": [],
   "source": [
    "df.to_csv(\"data/mn.csv\", index=False)"
   ]
  },
  {
   "cell_type": "code",
   "execution_count": 7,
   "metadata": {},
   "outputs": [
    {
     "data": {
      "text/html": [
       "<div>\n",
       "<style scoped>\n",
       "    .dataframe tbody tr th:only-of-type {\n",
       "        vertical-align: middle;\n",
       "    }\n",
       "\n",
       "    .dataframe tbody tr th {\n",
       "        vertical-align: top;\n",
       "    }\n",
       "\n",
       "    .dataframe thead th {\n",
       "        text-align: right;\n",
       "    }\n",
       "</style>\n",
       "<table border=\"1\" class=\"dataframe\">\n",
       "  <thead>\n",
       "    <tr style=\"text-align: right;\">\n",
       "      <th></th>\n",
       "      <th>Date reported</th>\n",
       "      <th>Change in positive cases (daily)</th>\n",
       "      <th>Total confirmed positive</th>\n",
       "      <th>Newly reported deaths (daily)</th>\n",
       "      <th>Total deaths</th>\n",
       "      <th>Hospitalized in ICU (daily)</th>\n",
       "      <th>Hospitalized, not in ICU (daily)</th>\n",
       "      <th>Total hospitalizations</th>\n",
       "      <th>Total ICU hospitalizations</th>\n",
       "    </tr>\n",
       "  </thead>\n",
       "  <tbody>\n",
       "    <tr>\n",
       "      <th>0</th>\n",
       "      <td>3/21</td>\n",
       "      <td>22</td>\n",
       "      <td>137</td>\n",
       "      <td>1</td>\n",
       "      <td>1</td>\n",
       "      <td>4</td>\n",
       "      <td>2</td>\n",
       "      <td>12</td>\n",
       "      <td>4</td>\n",
       "    </tr>\n",
       "    <tr>\n",
       "      <th>1</th>\n",
       "      <td>3/22</td>\n",
       "      <td>32</td>\n",
       "      <td>169</td>\n",
       "      <td>0</td>\n",
       "      <td>1</td>\n",
       "      <td>5</td>\n",
       "      <td>5</td>\n",
       "      <td>12</td>\n",
       "      <td>5</td>\n",
       "    </tr>\n",
       "    <tr>\n",
       "      <th>2</th>\n",
       "      <td>3/23</td>\n",
       "      <td>66</td>\n",
       "      <td>235</td>\n",
       "      <td>0</td>\n",
       "      <td>1</td>\n",
       "      <td>5</td>\n",
       "      <td>7</td>\n",
       "      <td>21</td>\n",
       "      <td>5</td>\n",
       "    </tr>\n",
       "    <tr>\n",
       "      <th>3</th>\n",
       "      <td>3/24</td>\n",
       "      <td>26</td>\n",
       "      <td>261</td>\n",
       "      <td>0</td>\n",
       "      <td>1</td>\n",
       "      <td>7</td>\n",
       "      <td>8</td>\n",
       "      <td>25</td>\n",
       "      <td>7</td>\n",
       "    </tr>\n",
       "    <tr>\n",
       "      <th>4</th>\n",
       "      <td>3/25</td>\n",
       "      <td>26</td>\n",
       "      <td>287</td>\n",
       "      <td>0</td>\n",
       "      <td>1</td>\n",
       "      <td>12</td>\n",
       "      <td>14</td>\n",
       "      <td>35</td>\n",
       "      <td>12</td>\n",
       "    </tr>\n",
       "  </tbody>\n",
       "</table>\n",
       "</div>"
      ],
      "text/plain": [
       "  Date reported  Change in positive cases (daily)  Total confirmed positive  \\\n",
       "0          3/21                                22                       137   \n",
       "1          3/22                                32                       169   \n",
       "2          3/23                                66                       235   \n",
       "3          3/24                                26                       261   \n",
       "4          3/25                                26                       287   \n",
       "\n",
       "   Newly reported deaths (daily)  Total deaths  Hospitalized in ICU (daily)  \\\n",
       "0                              1             1                            4   \n",
       "1                              0             1                            5   \n",
       "2                              0             1                            5   \n",
       "3                              0             1                            7   \n",
       "4                              0             1                           12   \n",
       "\n",
       "   Hospitalized, not in ICU (daily)  Total hospitalizations  \\\n",
       "0                                 2                      12   \n",
       "1                                 5                      12   \n",
       "2                                 7                      21   \n",
       "3                                 8                      25   \n",
       "4                                14                      35   \n",
       "\n",
       "   Total ICU hospitalizations  \n",
       "0                           4  \n",
       "1                           5  \n",
       "2                           5  \n",
       "3                           7  \n",
       "4                          12  "
      ]
     },
     "execution_count": 7,
     "metadata": {},
     "output_type": "execute_result"
    }
   ],
   "source": [
    "df.head()"
   ]
  },
  {
   "cell_type": "code",
   "execution_count": 8,
   "metadata": {},
   "outputs": [
    {
     "data": {
      "text/plain": [
       "Index(['Date reported', 'Change in positive cases (daily)',\n",
       "       'Total confirmed positive', 'Newly reported deaths (daily)',\n",
       "       'Total deaths', 'Hospitalized in ICU (daily)',\n",
       "       'Hospitalized, not in ICU (daily)', 'Total hospitalizations',\n",
       "       'Total ICU hospitalizations', 'datetime'],\n",
       "      dtype='object')"
      ]
     },
     "execution_count": 8,
     "metadata": {},
     "output_type": "execute_result"
    }
   ],
   "source": [
    "from datetime import datetime, timedelta\n",
    "\n",
    "def parse_datetime(x):\n",
    "    month, day = x.split(\"/\")\n",
    "    return datetime(2020, int(month), int(day))\n",
    "\n",
    "df[\"datetime\"] = df[\"Date reported\"].apply(parse_datetime)\n",
    "assert (df.columns == ['Date reported', 'Change in positive cases (daily)',\n",
    "       'Total confirmed positive', 'Newly reported deaths (daily)',\n",
    "       'Total deaths', 'Hospitalized in ICU (daily)',\n",
    "       'Hospitalized, not in ICU (daily)', 'Total hospitalizations',\n",
    "       'Total ICU hospitalizations', \"datetime\"]).all()\n",
    "\n",
    "df.columns"
   ]
  },
  {
   "cell_type": "code",
   "execution_count": 9,
   "metadata": {},
   "outputs": [],
   "source": [
    "df[\"in_hosp\"] = df[\"Hospitalized in ICU (daily)\"] + df[\"Hospitalized, not in ICU (daily)\"]"
   ]
  },
  {
   "cell_type": "code",
   "execution_count": 18,
   "metadata": {},
   "outputs": [
    {
     "data": {
      "image/png": "[encoded data removed]",
      "text/plain": [
       "<Figure size 324x216 with 1 Axes>"
      ]
     },
     "metadata": {
      "image/png": {
       "height": 220,
       "width": 292
      },
      "needs_background": "light"
     },
     "output_type": "display_data"
    }
   ],
   "source": [
    "import matplotlib.pyplot as plt\n",
    "import matplotlib.dates as mdates\n",
    "\n",
    "w = 3\n",
    "fig, ax = plt.subplots(figsize=(1.5 * w, w))\n",
    "\n",
    "style = \".-\"\n",
    "ax.plot(df.datetime, df[\"Hospitalized in ICU (daily)\"], style, label=\"Patients in ICU\")\n",
    "ax.plot(df.datetime, df[\"Hospitalized, not in ICU (daily)\"], style, label=\"Patients in hospital\\nbut not ICU\")\n",
    "ax.plot(df.datetime, df[\"Newly reported deaths (daily)\"], style, label=\"Daily deaths\")\n",
    "# ax.plot(df.datetime, df[\"Change in positive cases (daily)\"], label=\"New positive tests\")\n",
    "ax.legend(loc=\"best\")\n",
    "# ax.set_yscale(\"log\")\n",
    "start = df.datetime.min()\n",
    "weeks = [start + timedelta(k * 7) for k in range(52)]\n",
    "ax.xaxis.set_major_locator(plt.FixedLocator([mdates.date2num(_) for _ in weeks]))\n",
    "ax.xaxis.set_major_formatter(mdates.DateFormatter(\"%b.\\n%d\"))\n",
    "ax.grid(alpha=0.6)\n",
    "ax.set_title(\"COVID-19 in MN\")\n",
    "# ax.set_ylabel(\"Number\")\n",
    "fig.savefig(\"imgs/mn.png\", dpi=300, bbox_inches=\"tight\")\n",
    "fig.savefig(\"imgs/mn.svg\", bbox_inches=\"tight\")"
   ]
  },
  {
   "cell_type": "code",
   "execution_count": null,
   "metadata": {},
   "outputs": [],
   "source": []
  }
 ],
 "metadata": {
  "kernelspec": {
   "display_name": "Python 3",
   "language": "python",
   "name": "python3"
  },
  "language_info": {
   "codemirror_mode": {
    "name": "ipython",
    "version": 3
   },
   "file_extension": ".py",
   "mimetype": "text/x-python",
   "name": "python",
   "nbconvert_exporter": "python",
   "pygments_lexer": "ipython3",
   "version": "3.7.4"
  }
 },
 "nbformat": 4,
 "nbformat_minor": 4
}
