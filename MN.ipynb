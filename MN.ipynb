{
 "cells": [
  {
   "cell_type": "code",
   "execution_count": 1,
   "metadata": {},
   "outputs": [],
   "source": [
    "import pandas as pd\n",
    "url = \"https://www.health.state.mn.us/diseases/coronavirus/situation.html#hosp1\"\n",
    "\n",
    "dfs = pd.read_html(url)"
   ]
  },
  {
   "cell_type": "code",
   "execution_count": 2,
   "metadata": {},
   "outputs": [
    {
     "name": "stdout",
     "output_type": "stream",
     "text": [
      "4 Index(['Date reported to MDH',\n",
      "       'Completed tests reported from the MDH Public Health Lab (daily)',\n",
      "       'Completed tests reported from external laboratories (daily)',\n",
      "       'Total approximate number of completed tests'],\n",
      "      dtype='object')\n",
      "5 Index(['Specimen collection date', 'Positive cases',\n",
      "       'Cumulative positive cases'],\n",
      "      dtype='object')\n",
      "6 Index(['Date reported', 'Newly reported deaths (daily)', 'Total deaths'], dtype='object')\n",
      "7 Index(['Date reported', 'Hospitalized in ICU (daily)',\n",
      "       'Hospitalized, not in ICU (daily)', 'Total hospitalizations',\n",
      "       'Total ICU hospitalizations'],\n",
      "      dtype='object')\n"
     ]
    }
   ],
   "source": [
    "for k, df in enumerate(dfs):\n",
    "    if any(isinstance(c, str) and (\"date\" in c.lower() or \"day\" in c.lower()) for c in df.columns):\n",
    "        print(k, df.columns)"
   ]
  },
  {
   "cell_type": "code",
   "execution_count": 3,
   "metadata": {},
   "outputs": [
    {
     "name": "stdout",
     "output_type": "stream",
     "text": [
      "Index(['Specimen collection date', 'Positive cases',\n",
      "       'Cumulative positive cases'],\n",
      "      dtype='object')\n",
      "Index(['Date reported', 'Hospitalized in ICU (daily)',\n",
      "       'Hospitalized, not in ICU (daily)', 'Total hospitalizations',\n",
      "       'Total ICU hospitalizations'],\n",
      "      dtype='object')\n"
     ]
    }
   ],
   "source": [
    "# Want: deaths, ICU/hosp, new cases\n",
    "\n",
    "cases = dfs[5]\n",
    "assert \"Positive cases\" in cases.columns\n",
    "assert \"Cumulative positive cases\" in cases.columns\n",
    "print(cases.columns)\n",
    "assert (cases.columns == ['Specimen collection date', 'Positive cases', 'Cumulative positive cases']).all()\n",
    "cases.columns = [\"Date reported\", \"Positive cases (daily)\", \"Total positive cases\"]\n",
    "\n",
    "deaths = dfs[6]\n",
    "assert \"Newly reported deaths (daily)\" in deaths.columns\n",
    "assert \"Total deaths\" in deaths.columns\n",
    "\n",
    "icu = dfs[7]\n",
    "print(icu.columns)\n",
    "assert \"Hospitalized in ICU (daily)\" in icu.columns\n",
    "assert \"Total ICU hospitalizations\" in icu.columns"
   ]
  },
  {
   "cell_type": "code",
   "execution_count": 4,
   "metadata": {},
   "outputs": [
    {
     "data": {
      "text/html": [
       "<div>\n",
       "<style scoped>\n",
       "    .dataframe tbody tr th:only-of-type {\n",
       "        vertical-align: middle;\n",
       "    }\n",
       "\n",
       "    .dataframe tbody tr th {\n",
       "        vertical-align: top;\n",
       "    }\n",
       "\n",
       "    .dataframe thead th {\n",
       "        text-align: right;\n",
       "    }\n",
       "</style>\n",
       "<table border=\"1\" class=\"dataframe\">\n",
       "  <thead>\n",
       "    <tr style=\"text-align: right;\">\n",
       "      <th></th>\n",
       "      <th>Date reported</th>\n",
       "      <th>Positive cases (daily)</th>\n",
       "      <th>Total positive cases</th>\n",
       "    </tr>\n",
       "  </thead>\n",
       "  <tbody>\n",
       "    <tr>\n",
       "      <th>0</th>\n",
       "      <td>3/5</td>\n",
       "      <td>1</td>\n",
       "      <td>1</td>\n",
       "    </tr>\n",
       "    <tr>\n",
       "      <th>1</th>\n",
       "      <td>3/6</td>\n",
       "      <td>0</td>\n",
       "      <td>1</td>\n",
       "    </tr>\n",
       "    <tr>\n",
       "      <th>2</th>\n",
       "      <td>3/7</td>\n",
       "      <td>1</td>\n",
       "      <td>2</td>\n",
       "    </tr>\n",
       "    <tr>\n",
       "      <th>3</th>\n",
       "      <td>3/8</td>\n",
       "      <td>0</td>\n",
       "      <td>2</td>\n",
       "    </tr>\n",
       "    <tr>\n",
       "      <th>4</th>\n",
       "      <td>3/9</td>\n",
       "      <td>3</td>\n",
       "      <td>5</td>\n",
       "    </tr>\n",
       "    <tr>\n",
       "      <th>...</th>\n",
       "      <td>...</td>\n",
       "      <td>...</td>\n",
       "      <td>...</td>\n",
       "    </tr>\n",
       "    <tr>\n",
       "      <th>172</th>\n",
       "      <td>8/24</td>\n",
       "      <td>857</td>\n",
       "      <td>72544</td>\n",
       "    </tr>\n",
       "    <tr>\n",
       "      <th>173</th>\n",
       "      <td>8/25</td>\n",
       "      <td>530</td>\n",
       "      <td>73074</td>\n",
       "    </tr>\n",
       "    <tr>\n",
       "      <th>174</th>\n",
       "      <td>8/26</td>\n",
       "      <td>154</td>\n",
       "      <td>73228</td>\n",
       "    </tr>\n",
       "    <tr>\n",
       "      <th>175</th>\n",
       "      <td>8/27</td>\n",
       "      <td>6</td>\n",
       "      <td>73234</td>\n",
       "    </tr>\n",
       "    <tr>\n",
       "      <th>176</th>\n",
       "      <td>Unknown/missing</td>\n",
       "      <td>6</td>\n",
       "      <td>73240</td>\n",
       "    </tr>\n",
       "  </tbody>\n",
       "</table>\n",
       "<p>177 rows × 3 columns</p>\n",
       "</div>"
      ],
      "text/plain": [
       "       Date reported  Positive cases (daily)  Total positive cases\n",
       "0                3/5                       1                     1\n",
       "1                3/6                       0                     1\n",
       "2                3/7                       1                     2\n",
       "3                3/8                       0                     2\n",
       "4                3/9                       3                     5\n",
       "..               ...                     ...                   ...\n",
       "172             8/24                     857                 72544\n",
       "173             8/25                     530                 73074\n",
       "174             8/26                     154                 73228\n",
       "175             8/27                       6                 73234\n",
       "176  Unknown/missing                       6                 73240\n",
       "\n",
       "[177 rows x 3 columns]"
      ]
     },
     "execution_count": 4,
     "metadata": {},
     "output_type": "execute_result"
    }
   ],
   "source": [
    "cases"
   ]
  },
  {
   "cell_type": "code",
   "execution_count": 5,
   "metadata": {},
   "outputs": [],
   "source": [
    "df = pd.merge(cases, deaths, on=\"Date reported\")\n",
    "df = pd.merge(df, icu, on=\"Date reported\")"
   ]
  },
  {
   "cell_type": "code",
   "execution_count": 6,
   "metadata": {},
   "outputs": [],
   "source": [
    "df.to_csv(\"data/mn.csv\", index=False)"
   ]
  },
  {
   "cell_type": "code",
   "execution_count": 7,
   "metadata": {},
   "outputs": [
    {
     "data": {
      "text/html": [
       "<div>\n",
       "<style scoped>\n",
       "    .dataframe tbody tr th:only-of-type {\n",
       "        vertical-align: middle;\n",
       "    }\n",
       "\n",
       "    .dataframe tbody tr th {\n",
       "        vertical-align: top;\n",
       "    }\n",
       "\n",
       "    .dataframe thead th {\n",
       "        text-align: right;\n",
       "    }\n",
       "</style>\n",
       "<table border=\"1\" class=\"dataframe\">\n",
       "  <thead>\n",
       "    <tr style=\"text-align: right;\">\n",
       "      <th></th>\n",
       "      <th>Date reported</th>\n",
       "      <th>Positive cases (daily)</th>\n",
       "      <th>Total positive cases</th>\n",
       "      <th>Newly reported deaths (daily)</th>\n",
       "      <th>Total deaths</th>\n",
       "      <th>Hospitalized in ICU (daily)</th>\n",
       "      <th>Hospitalized, not in ICU (daily)</th>\n",
       "      <th>Total hospitalizations</th>\n",
       "      <th>Total ICU hospitalizations</th>\n",
       "    </tr>\n",
       "  </thead>\n",
       "  <tbody>\n",
       "    <tr>\n",
       "      <th>0</th>\n",
       "      <td>3/21</td>\n",
       "      <td>24</td>\n",
       "      <td>327</td>\n",
       "      <td>1</td>\n",
       "      <td>1</td>\n",
       "      <td>4</td>\n",
       "      <td>2</td>\n",
       "      <td>12</td>\n",
       "      <td>4</td>\n",
       "    </tr>\n",
       "    <tr>\n",
       "      <th>1</th>\n",
       "      <td>3/22</td>\n",
       "      <td>22</td>\n",
       "      <td>349</td>\n",
       "      <td>0</td>\n",
       "      <td>1</td>\n",
       "      <td>5</td>\n",
       "      <td>5</td>\n",
       "      <td>12</td>\n",
       "      <td>5</td>\n",
       "    </tr>\n",
       "    <tr>\n",
       "      <th>2</th>\n",
       "      <td>3/23</td>\n",
       "      <td>44</td>\n",
       "      <td>393</td>\n",
       "      <td>0</td>\n",
       "      <td>1</td>\n",
       "      <td>5</td>\n",
       "      <td>7</td>\n",
       "      <td>21</td>\n",
       "      <td>5</td>\n",
       "    </tr>\n",
       "    <tr>\n",
       "      <th>3</th>\n",
       "      <td>3/24</td>\n",
       "      <td>51</td>\n",
       "      <td>444</td>\n",
       "      <td>0</td>\n",
       "      <td>1</td>\n",
       "      <td>7</td>\n",
       "      <td>8</td>\n",
       "      <td>25</td>\n",
       "      <td>7</td>\n",
       "    </tr>\n",
       "    <tr>\n",
       "      <th>4</th>\n",
       "      <td>3/25</td>\n",
       "      <td>58</td>\n",
       "      <td>502</td>\n",
       "      <td>0</td>\n",
       "      <td>1</td>\n",
       "      <td>12</td>\n",
       "      <td>14</td>\n",
       "      <td>35</td>\n",
       "      <td>12</td>\n",
       "    </tr>\n",
       "  </tbody>\n",
       "</table>\n",
       "</div>"
      ],
      "text/plain": [
       "  Date reported  Positive cases (daily)  Total positive cases  \\\n",
       "0          3/21                      24                   327   \n",
       "1          3/22                      22                   349   \n",
       "2          3/23                      44                   393   \n",
       "3          3/24                      51                   444   \n",
       "4          3/25                      58                   502   \n",
       "\n",
       "  Newly reported deaths (daily)  Total deaths Hospitalized in ICU (daily)  \\\n",
       "0                             1             1                           4   \n",
       "1                             0             1                           5   \n",
       "2                             0             1                           5   \n",
       "3                             0             1                           7   \n",
       "4                             0             1                          12   \n",
       "\n",
       "  Hospitalized, not in ICU (daily)  Total hospitalizations  \\\n",
       "0                                2                      12   \n",
       "1                                5                      12   \n",
       "2                                7                      21   \n",
       "3                                8                      25   \n",
       "4                               14                      35   \n",
       "\n",
       "   Total ICU hospitalizations  \n",
       "0                           4  \n",
       "1                           5  \n",
       "2                           5  \n",
       "3                           7  \n",
       "4                          12  "
      ]
     },
     "execution_count": 7,
     "metadata": {},
     "output_type": "execute_result"
    }
   ],
   "source": [
    "df.head()"
   ]
  },
  {
   "cell_type": "code",
   "execution_count": 8,
   "metadata": {},
   "outputs": [
    {
     "data": {
      "text/plain": [
       "Index(['Date reported', 'Positive cases (daily)', 'Total positive cases',\n",
       "       'Newly reported deaths (daily)', 'Total deaths',\n",
       "       'Hospitalized in ICU (daily)', 'Hospitalized, not in ICU (daily)',\n",
       "       'Total hospitalizations', 'Total ICU hospitalizations', 'datetime'],\n",
       "      dtype='object')"
      ]
     },
     "execution_count": 8,
     "metadata": {},
     "output_type": "execute_result"
    }
   ],
   "source": [
    "from datetime import datetime, timedelta\n",
    "\n",
    "def parse_datetime(x):\n",
    "    month, day = x.split(\"/\")\n",
    "    return datetime(2020, int(month), int(day))\n",
    "\n",
    "df[\"datetime\"] = df[\"Date reported\"].apply(parse_datetime)\n",
    "df.columns"
   ]
  },
  {
   "cell_type": "code",
   "execution_count": 9,
   "metadata": {},
   "outputs": [
    {
     "data": {
      "text/plain": [
       "Index(['Date reported', 'Positive cases (daily)', 'Total positive cases',\n",
       "       'Newly reported deaths (daily)', 'Total deaths',\n",
       "       'Hospitalized in ICU (daily)', 'Hospitalized, not in ICU (daily)',\n",
       "       'Total hospitalizations', 'Total ICU hospitalizations', 'datetime'],\n",
       "      dtype='object')"
      ]
     },
     "execution_count": 9,
     "metadata": {},
     "output_type": "execute_result"
    }
   ],
   "source": [
    "assert (df.columns == ['Date reported', 'Positive cases (daily)',\n",
    "       'Total positive cases', 'Newly reported deaths (daily)',\n",
    "       'Total deaths', 'Hospitalized in ICU (daily)',\n",
    "       'Hospitalized, not in ICU (daily)', 'Total hospitalizations',\n",
    "       'Total ICU hospitalizations', \"datetime\"]).all()\n",
    "\n",
    "df.columns"
   ]
  },
  {
   "cell_type": "code",
   "execution_count": 10,
   "metadata": {},
   "outputs": [
    {
     "data": {
      "text/plain": [
       "Index(['Date reported', 'Positive cases (daily)', 'Total positive cases',\n",
       "       'Newly reported deaths (daily)', 'Total deaths',\n",
       "       'Hospitalized in ICU (daily)', 'Hospitalized, not in ICU (daily)',\n",
       "       'Total hospitalizations', 'Total ICU hospitalizations', 'datetime'],\n",
       "      dtype='object')"
      ]
     },
     "execution_count": 10,
     "metadata": {},
     "output_type": "execute_result"
    }
   ],
   "source": [
    "df.columns"
   ]
  },
  {
   "cell_type": "code",
   "execution_count": 11,
   "metadata": {},
   "outputs": [
    {
     "name": "stdout",
     "output_type": "stream",
     "text": [
      "[True, True, True]\n",
      "Hospitalized in ICU (daily)\n",
      "Hospitalized, not in ICU (daily)\n",
      "Newly reported deaths (daily)\n"
     ]
    }
   ],
   "source": [
    "import numpy as np\n",
    "cols = [\n",
    "    \"Hospitalized in ICU (daily)\",\n",
    "    \"Hospitalized, not in ICU (daily)\",\n",
    "    \"Newly reported deaths (daily)\",\n",
    "]\n",
    "in_df = [c in df.columns for c in cols]\n",
    "print(in_df)\n",
    "for c in cols:\n",
    "    print(c)\n",
    "    idx = df[c] == \"-\"\n",
    "    df.loc[idx, c] = np.nan\n",
    "    df[c] = df[c].astype(\"float32\")"
   ]
  },
  {
   "cell_type": "code",
   "execution_count": 12,
   "metadata": {},
   "outputs": [],
   "source": [
    "df[\"in_hosp\"] = df[\"Hospitalized in ICU (daily)\"] + df[\"Hospitalized, not in ICU (daily)\"]"
   ]
  },
  {
   "cell_type": "code",
   "execution_count": 13,
   "metadata": {},
   "outputs": [
    {
     "data": {
      "text/plain": [
       "Date reported                               object\n",
       "Positive cases (daily)                       int64\n",
       "Total positive cases                         int64\n",
       "Newly reported deaths (daily)              float32\n",
       "Total deaths                                 int64\n",
       "Hospitalized in ICU (daily)                float32\n",
       "Hospitalized, not in ICU (daily)           float32\n",
       "Total hospitalizations                       int64\n",
       "Total ICU hospitalizations                   int64\n",
       "datetime                            datetime64[ns]\n",
       "in_hosp                                    float32\n",
       "dtype: object"
      ]
     },
     "execution_count": 13,
     "metadata": {},
     "output_type": "execute_result"
    }
   ],
   "source": [
    "df.dtypes"
   ]
  },
  {
   "cell_type": "code",
   "execution_count": 14,
   "metadata": {},
   "outputs": [
    {
     "data": {
      "text/html": [
       "<div>\n",
       "<style scoped>\n",
       "    .dataframe tbody tr th:only-of-type {\n",
       "        vertical-align: middle;\n",
       "    }\n",
       "\n",
       "    .dataframe tbody tr th {\n",
       "        vertical-align: top;\n",
       "    }\n",
       "\n",
       "    .dataframe thead th {\n",
       "        text-align: right;\n",
       "    }\n",
       "</style>\n",
       "<table border=\"1\" class=\"dataframe\">\n",
       "  <thead>\n",
       "    <tr style=\"text-align: right;\">\n",
       "      <th></th>\n",
       "      <th>Date reported</th>\n",
       "      <th>Positive cases (daily)</th>\n",
       "      <th>Total positive cases</th>\n",
       "      <th>Newly reported deaths (daily)</th>\n",
       "      <th>Total deaths</th>\n",
       "      <th>Hospitalized in ICU (daily)</th>\n",
       "      <th>Hospitalized, not in ICU (daily)</th>\n",
       "      <th>Total hospitalizations</th>\n",
       "      <th>Total ICU hospitalizations</th>\n",
       "      <th>datetime</th>\n",
       "      <th>in_hosp</th>\n",
       "    </tr>\n",
       "  </thead>\n",
       "  <tbody>\n",
       "    <tr>\n",
       "      <th>0</th>\n",
       "      <td>3/21</td>\n",
       "      <td>24</td>\n",
       "      <td>327</td>\n",
       "      <td>1.0</td>\n",
       "      <td>1</td>\n",
       "      <td>4.0</td>\n",
       "      <td>2.0</td>\n",
       "      <td>12</td>\n",
       "      <td>4</td>\n",
       "      <td>2020-03-21</td>\n",
       "      <td>6.0</td>\n",
       "    </tr>\n",
       "    <tr>\n",
       "      <th>1</th>\n",
       "      <td>3/22</td>\n",
       "      <td>22</td>\n",
       "      <td>349</td>\n",
       "      <td>0.0</td>\n",
       "      <td>1</td>\n",
       "      <td>5.0</td>\n",
       "      <td>5.0</td>\n",
       "      <td>12</td>\n",
       "      <td>5</td>\n",
       "      <td>2020-03-22</td>\n",
       "      <td>10.0</td>\n",
       "    </tr>\n",
       "    <tr>\n",
       "      <th>2</th>\n",
       "      <td>3/23</td>\n",
       "      <td>44</td>\n",
       "      <td>393</td>\n",
       "      <td>0.0</td>\n",
       "      <td>1</td>\n",
       "      <td>5.0</td>\n",
       "      <td>7.0</td>\n",
       "      <td>21</td>\n",
       "      <td>5</td>\n",
       "      <td>2020-03-23</td>\n",
       "      <td>12.0</td>\n",
       "    </tr>\n",
       "    <tr>\n",
       "      <th>3</th>\n",
       "      <td>3/24</td>\n",
       "      <td>51</td>\n",
       "      <td>444</td>\n",
       "      <td>0.0</td>\n",
       "      <td>1</td>\n",
       "      <td>7.0</td>\n",
       "      <td>8.0</td>\n",
       "      <td>25</td>\n",
       "      <td>7</td>\n",
       "      <td>2020-03-24</td>\n",
       "      <td>15.0</td>\n",
       "    </tr>\n",
       "    <tr>\n",
       "      <th>4</th>\n",
       "      <td>3/25</td>\n",
       "      <td>58</td>\n",
       "      <td>502</td>\n",
       "      <td>0.0</td>\n",
       "      <td>1</td>\n",
       "      <td>12.0</td>\n",
       "      <td>14.0</td>\n",
       "      <td>35</td>\n",
       "      <td>12</td>\n",
       "      <td>2020-03-25</td>\n",
       "      <td>26.0</td>\n",
       "    </tr>\n",
       "  </tbody>\n",
       "</table>\n",
       "</div>"
      ],
      "text/plain": [
       "  Date reported  Positive cases (daily)  Total positive cases  \\\n",
       "0          3/21                      24                   327   \n",
       "1          3/22                      22                   349   \n",
       "2          3/23                      44                   393   \n",
       "3          3/24                      51                   444   \n",
       "4          3/25                      58                   502   \n",
       "\n",
       "   Newly reported deaths (daily)  Total deaths  Hospitalized in ICU (daily)  \\\n",
       "0                            1.0             1                          4.0   \n",
       "1                            0.0             1                          5.0   \n",
       "2                            0.0             1                          5.0   \n",
       "3                            0.0             1                          7.0   \n",
       "4                            0.0             1                         12.0   \n",
       "\n",
       "   Hospitalized, not in ICU (daily)  Total hospitalizations  \\\n",
       "0                               2.0                      12   \n",
       "1                               5.0                      12   \n",
       "2                               7.0                      21   \n",
       "3                               8.0                      25   \n",
       "4                              14.0                      35   \n",
       "\n",
       "   Total ICU hospitalizations   datetime  in_hosp  \n",
       "0                           4 2020-03-21      6.0  \n",
       "1                           5 2020-03-22     10.0  \n",
       "2                           5 2020-03-23     12.0  \n",
       "3                           7 2020-03-24     15.0  \n",
       "4                          12 2020-03-25     26.0  "
      ]
     },
     "execution_count": 14,
     "metadata": {},
     "output_type": "execute_result"
    }
   ],
   "source": [
    "df.head()"
   ]
  },
  {
   "cell_type": "code",
   "execution_count": 15,
   "metadata": {},
   "outputs": [
    {
     "data": {
      "image/png": "[encoded data removed]",
      "text/plain": [
       "<Figure size 432x216 with 1 Axes>"
      ]
     },
     "metadata": {
      "image/png": {
       "height": 220,
       "width": 375
      },
      "needs_background": "light"
     },
     "output_type": "display_data"
    }
   ],
   "source": [
    "import matplotlib.pyplot as plt\n",
    "import matplotlib.dates as mdates\n",
    "\n",
    "w = 3\n",
    "fig, ax = plt.subplots(figsize=(2.0 * w, w))\n",
    "\n",
    "style = \".-\"\n",
    "ax.plot(df.datetime, df[\"Hospitalized in ICU (daily)\"], style, label=\"Patients in ICU\")\n",
    "ax.plot(df.datetime, df[\"Hospitalized, not in ICU (daily)\"], style, label=\"Patients in hospital\\nbut not ICU\")\n",
    "ax.plot(df.datetime, df[\"Newly reported deaths (daily)\"], style, label=\"Daily deaths\")\n",
    "# ax.plot(df.datetime, df[\"Change in positive cases (daily)\"], label=\"New positive tests\")\n",
    "# ax.set_yscale(\"log\")\n",
    "start = df.datetime.min()\n",
    "\n",
    "weeks = [start + timedelta(k * 14) for k in range(52)]\n",
    "ax.xaxis.set_major_locator(plt.FixedLocator([mdates.date2num(_) for _ in weeks]))\n",
    "\n",
    "weeks = [start + timedelta(k * 14 + 7) for k in range(52)]\n",
    "ax.xaxis.set_minor_locator(plt.FixedLocator([mdates.date2num(_) for _ in weeks]))\n",
    "ax.grid(which=\"minor\", axis=\"x\", alpha=0.3)\n",
    "\n",
    "ax.xaxis.set_major_formatter(mdates.DateFormatter(\"%b.\\n%d\"))\n",
    "ax.grid(alpha=0.6)\n",
    "ax.set_title(\"COVID-19 in MN\")\n",
    "ax.legend(loc=\"best\")\n",
    "# ax.set_ylabel(\"Number\")\n",
    "fig.savefig(\"imgs/mn.png\", dpi=300, bbox_inches=\"tight\")\n",
    "fig.savefig(\"imgs/mn.svg\", bbox_inches=\"tight\")"
   ]
  },
  {
   "cell_type": "code",
   "execution_count": null,
   "metadata": {},
   "outputs": [],
   "source": []
  }
 ],
 "metadata": {
  "kernelspec": {
   "display_name": "Python 3",
   "language": "python",
   "name": "python3"
  },
  "language_info": {
   "codemirror_mode": {
    "name": "ipython",
    "version": 3
   },
   "file_extension": ".py",
   "mimetype": "text/x-python",
   "name": "python",
   "nbconvert_exporter": "python",
   "pygments_lexer": "ipython3",
   "version": "3.7.4"
  }
 },
 "nbformat": 4,
 "nbformat_minor": 4
}
