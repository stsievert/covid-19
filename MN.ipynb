{
 "cells": [
  {
   "cell_type": "code",
   "execution_count": 1,
   "metadata": {},
   "outputs": [
    {
     "data": {
      "text/plain": [
       "'hi'"
      ]
     },
     "execution_count": 1,
     "metadata": {},
     "output_type": "execute_result"
    }
   ],
   "source": [
    "\"hi\""
   ]
  },
  {
   "cell_type": "code",
   "execution_count": 2,
   "metadata": {},
   "outputs": [],
   "source": [
    "import pandas as pd\n",
    "url = \"https://www.health.state.mn.us/diseases/coronavirus/situation.html#hosp1\"\n",
    "\n",
    "dfs = pd.read_html(url)"
   ]
  },
  {
   "cell_type": "code",
   "execution_count": 3,
   "metadata": {},
   "outputs": [
    {
     "name": "stdout",
     "output_type": "stream",
     "text": [
      "4 Index(['Date reported to MDH',\n",
      "       'Completed tests reported from the MDH Public Health Lab (daily)',\n",
      "       'Completed tests reported from external laboratories (daily)',\n",
      "       'Total approximate number of completed tests'],\n",
      "      dtype='object')\n",
      "5 Index(['Specimen collection date', 'Positive cases',\n",
      "       'Cumulative positive cases'],\n",
      "      dtype='object')\n",
      "6 Index(['Date reported', 'Newly reported deaths (daily)', 'Total deaths'], dtype='object')\n",
      "7 Index(['Date reported', 'Hospitalized in ICU (daily)',\n",
      "       'Hospitalized, not in ICU (daily)', 'Total hospitalizations',\n",
      "       'Total ICU hospitalizations'],\n",
      "      dtype='object')\n"
     ]
    }
   ],
   "source": [
    "for k, df in enumerate(dfs):\n",
    "    if any(isinstance(c, str) and (\"date\" in c.lower() or \"day\" in c.lower()) for c in df.columns):\n",
    "        print(k, df.columns)"
   ]
  },
  {
   "cell_type": "code",
   "execution_count": 5,
   "metadata": {},
   "outputs": [
    {
     "name": "stdout",
     "output_type": "stream",
     "text": [
      "Index(['Specimen collection date', 'Positive cases',\n",
      "       'Cumulative positive cases'],\n",
      "      dtype='object')\n",
      "Index(['Date reported', 'Hospitalized in ICU (daily)',\n",
      "       'Hospitalized, not in ICU (daily)', 'Total hospitalizations',\n",
      "       'Total ICU hospitalizations'],\n",
      "      dtype='object')\n"
     ]
    }
   ],
   "source": [
    "# Want: deaths, ICU/hosp, new cases\n",
    "\n",
    "cases = dfs[5]\n",
    "assert \"Positive cases\" in cases.columns\n",
    "assert \"Cumulative positive cases\" in cases.columns\n",
    "print(cases.columns)\n",
    "assert (cases.columns == ['Specimen collection date', 'Positive cases', 'Cumulative positive cases']).all()\n",
    "cases.columns = [\"Date reported\", \"Positive cases (daily)\", \"Total positive cases\"]\n",
    "\n",
    "deaths = dfs[6]\n",
    "assert \"Newly reported deaths (daily)\" in deaths.columns\n",
    "assert \"Total deaths\" in deaths.columns\n",
    "\n",
    "icu = dfs[7]\n",
    "print(icu.columns)\n",
    "assert \"Hospitalized in ICU (daily)\" in icu.columns\n",
    "assert \"Total ICU hospitalizations\" in icu.columns"
   ]
  },
  {
   "cell_type": "code",
   "execution_count": 6,
   "metadata": {},
   "outputs": [
    {
     "data": {
      "text/html": [
       "<div>\n",
       "<style scoped>\n",
       "    .dataframe tbody tr th:only-of-type {\n",
       "        vertical-align: middle;\n",
       "    }\n",
       "\n",
       "    .dataframe tbody tr th {\n",
       "        vertical-align: top;\n",
       "    }\n",
       "\n",
       "    .dataframe thead th {\n",
       "        text-align: right;\n",
       "    }\n",
       "</style>\n",
       "<table border=\"1\" class=\"dataframe\">\n",
       "  <thead>\n",
       "    <tr style=\"text-align: right;\">\n",
       "      <th></th>\n",
       "      <th>Date reported</th>\n",
       "      <th>Positive cases (daily)</th>\n",
       "      <th>Total positive cases</th>\n",
       "    </tr>\n",
       "  </thead>\n",
       "  <tbody>\n",
       "    <tr>\n",
       "      <th>0</th>\n",
       "      <td>3/5</td>\n",
       "      <td>1</td>\n",
       "      <td>1</td>\n",
       "    </tr>\n",
       "    <tr>\n",
       "      <th>1</th>\n",
       "      <td>3/6</td>\n",
       "      <td>0</td>\n",
       "      <td>1</td>\n",
       "    </tr>\n",
       "    <tr>\n",
       "      <th>2</th>\n",
       "      <td>3/7</td>\n",
       "      <td>1</td>\n",
       "      <td>2</td>\n",
       "    </tr>\n",
       "    <tr>\n",
       "      <th>3</th>\n",
       "      <td>3/8</td>\n",
       "      <td>0</td>\n",
       "      <td>2</td>\n",
       "    </tr>\n",
       "    <tr>\n",
       "      <th>4</th>\n",
       "      <td>3/9</td>\n",
       "      <td>3</td>\n",
       "      <td>5</td>\n",
       "    </tr>\n",
       "    <tr>\n",
       "      <th>...</th>\n",
       "      <td>...</td>\n",
       "      <td>...</td>\n",
       "      <td>...</td>\n",
       "    </tr>\n",
       "    <tr>\n",
       "      <th>110</th>\n",
       "      <td>6/23</td>\n",
       "      <td>532</td>\n",
       "      <td>34786</td>\n",
       "    </tr>\n",
       "    <tr>\n",
       "      <th>111</th>\n",
       "      <td>6/24</td>\n",
       "      <td>353</td>\n",
       "      <td>35139</td>\n",
       "    </tr>\n",
       "    <tr>\n",
       "      <th>112</th>\n",
       "      <td>6/25</td>\n",
       "      <td>308</td>\n",
       "      <td>35447</td>\n",
       "    </tr>\n",
       "    <tr>\n",
       "      <th>113</th>\n",
       "      <td>6/26</td>\n",
       "      <td>101</td>\n",
       "      <td>35548</td>\n",
       "    </tr>\n",
       "    <tr>\n",
       "      <th>114</th>\n",
       "      <td>6/27</td>\n",
       "      <td>1</td>\n",
       "      <td>35549</td>\n",
       "    </tr>\n",
       "  </tbody>\n",
       "</table>\n",
       "<p>115 rows × 3 columns</p>\n",
       "</div>"
      ],
      "text/plain": [
       "    Date reported  Positive cases (daily)  Total positive cases\n",
       "0             3/5                       1                     1\n",
       "1             3/6                       0                     1\n",
       "2             3/7                       1                     2\n",
       "3             3/8                       0                     2\n",
       "4             3/9                       3                     5\n",
       "..            ...                     ...                   ...\n",
       "110          6/23                     532                 34786\n",
       "111          6/24                     353                 35139\n",
       "112          6/25                     308                 35447\n",
       "113          6/26                     101                 35548\n",
       "114          6/27                       1                 35549\n",
       "\n",
       "[115 rows x 3 columns]"
      ]
     },
     "execution_count": 6,
     "metadata": {},
     "output_type": "execute_result"
    }
   ],
   "source": [
    "cases"
   ]
  },
  {
   "cell_type": "code",
   "execution_count": 7,
   "metadata": {},
   "outputs": [],
   "source": [
    "df = pd.merge(cases, deaths, on=\"Date reported\")\n",
    "df = pd.merge(df, icu, on=\"Date reported\")"
   ]
  },
  {
   "cell_type": "code",
   "execution_count": 8,
   "metadata": {},
   "outputs": [],
   "source": [
    "df.to_csv(\"data/mn.csv\", index=False)"
   ]
  },
  {
   "cell_type": "code",
   "execution_count": 9,
   "metadata": {},
   "outputs": [
    {
     "data": {
      "text/html": [
       "<div>\n",
       "<style scoped>\n",
       "    .dataframe tbody tr th:only-of-type {\n",
       "        vertical-align: middle;\n",
       "    }\n",
       "\n",
       "    .dataframe tbody tr th {\n",
       "        vertical-align: top;\n",
       "    }\n",
       "\n",
       "    .dataframe thead th {\n",
       "        text-align: right;\n",
       "    }\n",
       "</style>\n",
       "<table border=\"1\" class=\"dataframe\">\n",
       "  <thead>\n",
       "    <tr style=\"text-align: right;\">\n",
       "      <th></th>\n",
       "      <th>Date reported</th>\n",
       "      <th>Positive cases (daily)</th>\n",
       "      <th>Total positive cases</th>\n",
       "      <th>Newly reported deaths (daily)</th>\n",
       "      <th>Total deaths</th>\n",
       "      <th>Hospitalized in ICU (daily)</th>\n",
       "      <th>Hospitalized, not in ICU (daily)</th>\n",
       "      <th>Total hospitalizations</th>\n",
       "      <th>Total ICU hospitalizations</th>\n",
       "    </tr>\n",
       "  </thead>\n",
       "  <tbody>\n",
       "    <tr>\n",
       "      <th>0</th>\n",
       "      <td>3/21</td>\n",
       "      <td>24</td>\n",
       "      <td>327</td>\n",
       "      <td>1</td>\n",
       "      <td>1</td>\n",
       "      <td>4</td>\n",
       "      <td>2</td>\n",
       "      <td>12</td>\n",
       "      <td>4</td>\n",
       "    </tr>\n",
       "    <tr>\n",
       "      <th>1</th>\n",
       "      <td>3/22</td>\n",
       "      <td>22</td>\n",
       "      <td>349</td>\n",
       "      <td>0</td>\n",
       "      <td>1</td>\n",
       "      <td>5</td>\n",
       "      <td>5</td>\n",
       "      <td>12</td>\n",
       "      <td>5</td>\n",
       "    </tr>\n",
       "    <tr>\n",
       "      <th>2</th>\n",
       "      <td>3/23</td>\n",
       "      <td>44</td>\n",
       "      <td>393</td>\n",
       "      <td>0</td>\n",
       "      <td>1</td>\n",
       "      <td>5</td>\n",
       "      <td>7</td>\n",
       "      <td>21</td>\n",
       "      <td>5</td>\n",
       "    </tr>\n",
       "    <tr>\n",
       "      <th>3</th>\n",
       "      <td>3/24</td>\n",
       "      <td>51</td>\n",
       "      <td>444</td>\n",
       "      <td>0</td>\n",
       "      <td>1</td>\n",
       "      <td>7</td>\n",
       "      <td>8</td>\n",
       "      <td>25</td>\n",
       "      <td>7</td>\n",
       "    </tr>\n",
       "    <tr>\n",
       "      <th>4</th>\n",
       "      <td>3/25</td>\n",
       "      <td>58</td>\n",
       "      <td>502</td>\n",
       "      <td>0</td>\n",
       "      <td>1</td>\n",
       "      <td>12</td>\n",
       "      <td>14</td>\n",
       "      <td>35</td>\n",
       "      <td>12</td>\n",
       "    </tr>\n",
       "  </tbody>\n",
       "</table>\n",
       "</div>"
      ],
      "text/plain": [
       "  Date reported  Positive cases (daily)  Total positive cases  \\\n",
       "0          3/21                      24                   327   \n",
       "1          3/22                      22                   349   \n",
       "2          3/23                      44                   393   \n",
       "3          3/24                      51                   444   \n",
       "4          3/25                      58                   502   \n",
       "\n",
       "   Newly reported deaths (daily)  Total deaths  Hospitalized in ICU (daily)  \\\n",
       "0                              1             1                            4   \n",
       "1                              0             1                            5   \n",
       "2                              0             1                            5   \n",
       "3                              0             1                            7   \n",
       "4                              0             1                           12   \n",
       "\n",
       "   Hospitalized, not in ICU (daily)  Total hospitalizations  \\\n",
       "0                                 2                      12   \n",
       "1                                 5                      12   \n",
       "2                                 7                      21   \n",
       "3                                 8                      25   \n",
       "4                                14                      35   \n",
       "\n",
       "   Total ICU hospitalizations  \n",
       "0                           4  \n",
       "1                           5  \n",
       "2                           5  \n",
       "3                           7  \n",
       "4                          12  "
      ]
     },
     "execution_count": 9,
     "metadata": {},
     "output_type": "execute_result"
    }
   ],
   "source": [
    "df.head()"
   ]
  },
  {
   "cell_type": "code",
   "execution_count": 10,
   "metadata": {},
   "outputs": [
    {
     "data": {
      "text/plain": [
       "Index(['Date reported', 'Positive cases (daily)', 'Total positive cases',\n",
       "       'Newly reported deaths (daily)', 'Total deaths',\n",
       "       'Hospitalized in ICU (daily)', 'Hospitalized, not in ICU (daily)',\n",
       "       'Total hospitalizations', 'Total ICU hospitalizations', 'datetime'],\n",
       "      dtype='object')"
      ]
     },
     "execution_count": 10,
     "metadata": {},
     "output_type": "execute_result"
    }
   ],
   "source": [
    "from datetime import datetime, timedelta\n",
    "\n",
    "def parse_datetime(x):\n",
    "    month, day = x.split(\"/\")\n",
    "    return datetime(2020, int(month), int(day))\n",
    "\n",
    "df[\"datetime\"] = df[\"Date reported\"].apply(parse_datetime)\n",
    "df.columns"
   ]
  },
  {
   "cell_type": "code",
   "execution_count": 11,
   "metadata": {},
   "outputs": [
    {
     "data": {
      "text/plain": [
       "Index(['Date reported', 'Positive cases (daily)', 'Total positive cases',\n",
       "       'Newly reported deaths (daily)', 'Total deaths',\n",
       "       'Hospitalized in ICU (daily)', 'Hospitalized, not in ICU (daily)',\n",
       "       'Total hospitalizations', 'Total ICU hospitalizations', 'datetime'],\n",
       "      dtype='object')"
      ]
     },
     "execution_count": 11,
     "metadata": {},
     "output_type": "execute_result"
    }
   ],
   "source": [
    "assert (df.columns == ['Date reported', 'Positive cases (daily)',\n",
    "       'Total positive cases', 'Newly reported deaths (daily)',\n",
    "       'Total deaths', 'Hospitalized in ICU (daily)',\n",
    "       'Hospitalized, not in ICU (daily)', 'Total hospitalizations',\n",
    "       'Total ICU hospitalizations', \"datetime\"]).all()\n",
    "\n",
    "df.columns"
   ]
  },
  {
   "cell_type": "code",
   "execution_count": 12,
   "metadata": {},
   "outputs": [],
   "source": [
    "df[\"in_hosp\"] = df[\"Hospitalized in ICU (daily)\"] + df[\"Hospitalized, not in ICU (daily)\"]"
   ]
  },
  {
   "cell_type": "code",
   "execution_count": 15,
   "metadata": {},
   "outputs": [
    {
     "data": {
      "image/png": "[encoded data removed]",
      "text/plain": [
       "<Figure size 324x216 with 1 Axes>"
      ]
     },
     "metadata": {
      "image/png": {
       "height": 220,
       "width": 291
      },
      "needs_background": "light"
     },
     "output_type": "display_data"
    }
   ],
   "source": [
    "import matplotlib.pyplot as plt\n",
    "import matplotlib.dates as mdates\n",
    "\n",
    "w = 3\n",
    "fig, ax = plt.subplots(figsize=(1.5 * w, w))\n",
    "\n",
    "style = \".-\"\n",
    "ax.plot(df.datetime, df[\"Hospitalized in ICU (daily)\"], style, label=\"Patients in ICU\")\n",
    "ax.plot(df.datetime, df[\"Hospitalized, not in ICU (daily)\"], style, label=\"Patients in hospital\\nbut not ICU\")\n",
    "ax.plot(df.datetime, df[\"Newly reported deaths (daily)\"], style, label=\"Daily deaths\")\n",
    "# ax.plot(df.datetime, df[\"Change in positive cases (daily)\"], label=\"New positive tests\")\n",
    "ax.legend(loc=\"best\")\n",
    "# ax.set_yscale(\"log\")\n",
    "start = df.datetime.min()\n",
    "\n",
    "weeks = [start + timedelta(k * 14) for k in range(52)]\n",
    "ax.xaxis.set_major_locator(plt.FixedLocator([mdates.date2num(_) for _ in weeks]))\n",
    "\n",
    "weeks = [start + timedelta(k * 14 + 7) for k in range(52)]\n",
    "ax.xaxis.set_minor_locator(plt.FixedLocator([mdates.date2num(_) for _ in weeks]))\n",
    "ax.grid(which=\"minor\", axis=\"x\", alpha=0.3)\n",
    "\n",
    "ax.xaxis.set_major_formatter(mdates.DateFormatter(\"%b.\\n%d\"))\n",
    "ax.grid(alpha=0.6)\n",
    "ax.set_title(\"COVID-19 in MN\")\n",
    "# ax.set_ylabel(\"Number\")\n",
    "fig.savefig(\"imgs/mn.png\", dpi=300, bbox_inches=\"tight\")\n",
    "fig.savefig(\"imgs/mn.svg\", bbox_inches=\"tight\")"
   ]
  },
  {
   "cell_type": "code",
   "execution_count": null,
   "metadata": {},
   "outputs": [],
   "source": []
  }
 ],
 "metadata": {
  "kernelspec": {
   "display_name": "Python 3",
   "language": "python",
   "name": "python3"
  },
  "language_info": {
   "codemirror_mode": {
    "name": "ipython",
    "version": 3
   },
   "file_extension": ".py",
   "mimetype": "text/x-python",
   "name": "python",
   "nbconvert_exporter": "python",
   "pygments_lexer": "ipython3",
   "version": "3.7.4"
  }
 },
 "nbformat": 4,
 "nbformat_minor": 4
}
