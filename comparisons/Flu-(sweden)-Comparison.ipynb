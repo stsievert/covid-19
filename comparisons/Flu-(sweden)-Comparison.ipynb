{
 "cells": [
  {
   "cell_type": "markdown",
   "metadata": {},
   "source": [
    "From Table 10 of https://www.folkhalsomyndigheten.se/publicerat-material/publikationsarkiv/i/influenza-in-sweden/?pub=63511"
   ]
  },
  {
   "cell_type": "code",
   "execution_count": 1,
   "metadata": {},
   "outputs": [
    {
     "data": {
      "text/html": [
       "<div>\n",
       "<style scoped>\n",
       "    .dataframe tbody tr th:only-of-type {\n",
       "        vertical-align: middle;\n",
       "    }\n",
       "\n",
       "    .dataframe tbody tr th {\n",
       "        vertical-align: top;\n",
       "    }\n",
       "\n",
       "    .dataframe thead th {\n",
       "        text-align: right;\n",
       "    }\n",
       "</style>\n",
       "<table border=\"1\" class=\"dataframe\">\n",
       "  <thead>\n",
       "    <tr style=\"text-align: right;\">\n",
       "      <th></th>\n",
       "      <th>min_age</th>\n",
       "      <th>max_age</th>\n",
       "      <th>case_rate</th>\n",
       "      <th>death_rate</th>\n",
       "      <th>virus</th>\n",
       "    </tr>\n",
       "  </thead>\n",
       "  <tbody>\n",
       "    <tr>\n",
       "      <th>1</th>\n",
       "      <td>40</td>\n",
       "      <td>64</td>\n",
       "      <td>0.00101</td>\n",
       "      <td>0.000020</td>\n",
       "      <td>influenza</td>\n",
       "    </tr>\n",
       "    <tr>\n",
       "      <th>6</th>\n",
       "      <td>85</td>\n",
       "      <td>89</td>\n",
       "      <td>0.00593</td>\n",
       "      <td>0.000490</td>\n",
       "      <td>influenza</td>\n",
       "    </tr>\n",
       "    <tr>\n",
       "      <th>5</th>\n",
       "      <td>80</td>\n",
       "      <td>84</td>\n",
       "      <td>0.00428</td>\n",
       "      <td>0.000370</td>\n",
       "      <td>influenza</td>\n",
       "    </tr>\n",
       "    <tr>\n",
       "      <th>0</th>\n",
       "      <td>0</td>\n",
       "      <td>40</td>\n",
       "      <td>0.00082</td>\n",
       "      <td>0.000002</td>\n",
       "      <td>influenza</td>\n",
       "    </tr>\n",
       "  </tbody>\n",
       "</table>\n",
       "</div>"
      ],
      "text/plain": [
       "   min_age  max_age  case_rate  death_rate      virus\n",
       "1       40       64    0.00101    0.000020  influenza\n",
       "6       85       89    0.00593    0.000490  influenza\n",
       "5       80       84    0.00428    0.000370  influenza\n",
       "0        0       40    0.00082    0.000002  influenza"
      ]
     },
     "execution_count": 1,
     "metadata": {},
     "output_type": "execute_result"
    }
   ],
   "source": [
    "import pandas as pd\n",
    "df = pd.read_html(\"static-data/sweden-flu-age.html\")[0]\n",
    "df.columns = [\"stat\", \"0-40\", \"40-64\", \"65-69\", \"70-74\", \"75-79\", \"80-84\", \"85-89\", \"90-94\", \"95-100\", \"total\"]\n",
    "df = df.set_index(\"stat\")\n",
    "df.index = [\"total_cases\", \"cases per 100k\", \"total deaths\", \"deaths per 100k\", \"deaths among cases (%)\", \"none\"]\n",
    "df = df.drop(\"none\")\n",
    "df = df.T\n",
    "df = df.drop(\"total\")\n",
    "df.index.name = \"age range\"\n",
    "df = df.reset_index()\n",
    "df[\"min_age\"] = df[\"age range\"].apply(lambda x: int(x.split(\"-\")[0]))\n",
    "df[\"max_age\"] = df[\"age range\"].apply(lambda x: int(x.split(\"-\")[1]))\n",
    "\n",
    "for col in [\"cases per 100k\", \"deaths per 100k\"]:\n",
    "    df[col] = df[col].astype(\"float\")\n",
    "\n",
    "df[\"case_rate\"] = df[\"cases per 100k\"] / 100e3\n",
    "df[\"death_rate\"] = df[\"deaths per 100k\"] / 100e3\n",
    "\n",
    "cols = [\"min_age\", \"max_age\", \"case_rate\", \"death_rate\"]\n",
    "flu = df[cols].copy()\n",
    "flu[\"virus\"] = \"influenza\"\n",
    "flu.sample(n=4)"
   ]
  },
  {
   "cell_type": "code",
   "execution_count": 2,
   "metadata": {},
   "outputs": [],
   "source": [
    "swe_ages = pd.read_csv(\"static-data/Sweden-2017.csv\")\n",
    "assert swe_ages.columns.tolist() == [\"Age\", \"M\", \"F\"]\n",
    "swe_ages.columns = [\"age\", \"m\", \"f\"]\n",
    "swe_ages = swe_ages.set_index(\"age\").sum(axis=1)\n",
    "swe_ages = swe_ages.reset_index()\n",
    "swe_ages.loc[swe_ages[\"age\"] == \"100+\", \"age\"] = \"100-109\"\n",
    "swe_ages.columns = [\"age\", \"population\"]\n",
    "swe_ages[\"min_age\"] = swe_ages[\"age\"].apply(lambda x: int(x.split(\"-\")[0]))\n",
    "swe_ages[\"max_age\"] = swe_ages[\"age\"].apply(lambda x: int(x.split(\"-\")[1]))\n",
    "# swe_ages.head()"
   ]
  },
  {
   "cell_type": "code",
   "execution_count": 3,
   "metadata": {},
   "outputs": [],
   "source": [
    "def _get_ages(row, age_dist=None, catch=True):\n",
    "    idx = (row.min_age <= age_dist.min_age) & (age_dist.max_age <= row.max_age)\n",
    "    if catch:\n",
    "        assert idx.sum() == 2\n",
    "    return age_dist.loc[idx, \"population\"].sum()"
   ]
  },
  {
   "cell_type": "markdown",
   "metadata": {},
   "source": [
    "`Sweden-2017.csv` form https://www.populationpyramid.net/sweden/2017/"
   ]
  },
  {
   "cell_type": "code",
   "execution_count": 4,
   "metadata": {},
   "outputs": [
    {
     "data": {
      "text/html": [
       "<div>\n",
       "<style scoped>\n",
       "    .dataframe tbody tr th:only-of-type {\n",
       "        vertical-align: middle;\n",
       "    }\n",
       "\n",
       "    .dataframe tbody tr th {\n",
       "        vertical-align: top;\n",
       "    }\n",
       "\n",
       "    .dataframe thead th {\n",
       "        text-align: right;\n",
       "    }\n",
       "</style>\n",
       "<table border=\"1\" class=\"dataframe\">\n",
       "  <thead>\n",
       "    <tr style=\"text-align: right;\">\n",
       "      <th></th>\n",
       "      <th>min_age</th>\n",
       "      <th>max_age</th>\n",
       "      <th>case_rate</th>\n",
       "      <th>death_rate</th>\n",
       "      <th>virus</th>\n",
       "    </tr>\n",
       "  </thead>\n",
       "  <tbody>\n",
       "    <tr>\n",
       "      <th>5</th>\n",
       "      <td>50</td>\n",
       "      <td>59</td>\n",
       "      <td>0.011590</td>\n",
       "      <td>0.000128</td>\n",
       "      <td>COVID</td>\n",
       "    </tr>\n",
       "    <tr>\n",
       "      <th>8</th>\n",
       "      <td>80</td>\n",
       "      <td>89</td>\n",
       "      <td>0.016138</td>\n",
       "      <td>0.005858</td>\n",
       "      <td>COVID</td>\n",
       "    </tr>\n",
       "    <tr>\n",
       "      <th>9</th>\n",
       "      <td>90</td>\n",
       "      <td>99</td>\n",
       "      <td>0.033554</td>\n",
       "      <td>0.014141</td>\n",
       "      <td>COVID</td>\n",
       "    </tr>\n",
       "    <tr>\n",
       "      <th>2</th>\n",
       "      <td>20</td>\n",
       "      <td>29</td>\n",
       "      <td>0.008561</td>\n",
       "      <td>0.000006</td>\n",
       "      <td>COVID</td>\n",
       "    </tr>\n",
       "  </tbody>\n",
       "</table>\n",
       "</div>"
      ],
      "text/plain": [
       "   min_age  max_age  case_rate  death_rate  virus\n",
       "5       50       59   0.011590    0.000128  COVID\n",
       "8       80       89   0.016138    0.005858  COVID\n",
       "9       90       99   0.033554    0.014141  COVID\n",
       "2       20       29   0.008561    0.000006  COVID"
      ]
     },
     "execution_count": 4,
     "metadata": {},
     "output_type": "execute_result"
    }
   ],
   "source": [
    "data = {\n",
    "    \"cases\": [494, 3276, 11592, 12152, 13300, 14399, 8281, 5835, 6521, 3526],\n",
    "    \"deaths\": [1, 0, 8, 16, 45, 159, 389, 1229, 2367, 1486],\n",
    "    \"icu\": [8, 15, 91, 116, 281, 638, 756, 494, 102, 3],\n",
    "    \"age range\": [\"0-9\", \"10-19\", \"20-29\", \"30-39\", \"40-49\", \"50-59\", \"60-69\", \"70-79\", \"80-89\", \"90-99\"],\n",
    "}\n",
    "sweden = pd.DataFrame(data)\n",
    "\n",
    "\n",
    "sweden[\"min_age\"] = sweden[\"age range\"].apply(lambda x: int(x.split(\"-\")[0]))\n",
    "sweden[\"max_age\"] = sweden[\"age range\"].apply(lambda x: int(x.split(\"-\")[1]))\n",
    "\n",
    "sweden[\"population\"] = sweden[[\"min_age\", \"max_age\"]].apply(_get_ages, age_dist=swe_ages, axis=1)\n",
    "sweden = sweden.drop(columns=[\"age range\"])\n",
    "\n",
    "sweden[\"case_rate\"] = sweden[\"cases\"] / sweden[\"population\"]\n",
    "sweden[\"death_rate\"] = sweden[\"deaths\"] / sweden[\"population\"]\n",
    "\n",
    "cols = [\"min_age\", \"max_age\", \"case_rate\", \"death_rate\"]\n",
    "covid = sweden[cols].copy()\n",
    "covid[\"virus\"] = \"COVID\"\n",
    "covid.sample(n=4)"
   ]
  },
  {
   "cell_type": "code",
   "execution_count": 5,
   "metadata": {},
   "outputs": [
    {
     "data": {
      "text/html": [
       "<div>\n",
       "<style scoped>\n",
       "    .dataframe tbody tr th:only-of-type {\n",
       "        vertical-align: middle;\n",
       "    }\n",
       "\n",
       "    .dataframe tbody tr th {\n",
       "        vertical-align: top;\n",
       "    }\n",
       "\n",
       "    .dataframe thead th {\n",
       "        text-align: right;\n",
       "    }\n",
       "</style>\n",
       "<table border=\"1\" class=\"dataframe\">\n",
       "  <thead>\n",
       "    <tr style=\"text-align: right;\">\n",
       "      <th></th>\n",
       "      <th>case_rate</th>\n",
       "      <th>death_rate</th>\n",
       "      <th>virus</th>\n",
       "      <th>age</th>\n",
       "    </tr>\n",
       "  </thead>\n",
       "  <tbody>\n",
       "    <tr>\n",
       "      <th>9</th>\n",
       "      <td>0.000418</td>\n",
       "      <td>8.468447e-07</td>\n",
       "      <td>COVID</td>\n",
       "      <td>0</td>\n",
       "    </tr>\n",
       "    <tr>\n",
       "      <th>8</th>\n",
       "      <td>0.006440</td>\n",
       "      <td>1.450000e-03</td>\n",
       "      <td>influenza</td>\n",
       "      <td>95</td>\n",
       "    </tr>\n",
       "    <tr>\n",
       "      <th>5</th>\n",
       "      <td>0.004280</td>\n",
       "      <td>3.700000e-04</td>\n",
       "      <td>influenza</td>\n",
       "      <td>80</td>\n",
       "    </tr>\n",
       "    <tr>\n",
       "      <th>33</th>\n",
       "      <td>0.011590</td>\n",
       "      <td>1.279840e-04</td>\n",
       "      <td>COVID</td>\n",
       "      <td>59</td>\n",
       "    </tr>\n",
       "  </tbody>\n",
       "</table>\n",
       "</div>"
      ],
      "text/plain": [
       "    case_rate    death_rate      virus  age\n",
       "9    0.000418  8.468447e-07      COVID    0\n",
       "8    0.006440  1.450000e-03  influenza   95\n",
       "5    0.004280  3.700000e-04  influenza   80\n",
       "33   0.011590  1.279840e-04      COVID   59"
      ]
     },
     "execution_count": 5,
     "metadata": {},
     "output_type": "execute_result"
    }
   ],
   "source": [
    "df = pd.concat((flu, covid))\n",
    "\n",
    "df = df.melt(id_vars=[\"case_rate\", \"death_rate\", \"virus\"], value_name=\"age\").drop(columns=\"variable\")\n",
    "df.sample(n=4)"
   ]
  },
  {
   "cell_type": "code",
   "execution_count": 6,
   "metadata": {},
   "outputs": [
    {
     "data": {
      "text/plain": [
       "Text(0.5, 1.0, 'Swedish COVID and flu mortality rate')"
      ]
     },
     "execution_count": 6,
     "metadata": {},
     "output_type": "execute_result"
    },
    {
     "data": {
      "image/png": "[encoded data removed]",
      "text/plain": [
       "<Figure size 270x180 with 1 Axes>"
      ]
     },
     "metadata": {
      "image/png": {
       "height": 195,
       "width": 317
      },
      "needs_background": "light"
     },
     "output_type": "display_data"
    }
   ],
   "source": [
    "import seaborn as sns\n",
    "import numpy as np\n",
    "import matplotlib.pyplot as plt\n",
    "\n",
    "df[\"deaths per 100k\"] = df[\"death_rate\"] * 100e3\n",
    "\n",
    "w = 2.5\n",
    "fig, ax = plt.subplots(figsize=(1.5 * w, w))\n",
    "ax = sns.lineplot(\n",
    "    x=\"age\",\n",
    "    y=\"death_rate\",\n",
    "    hue=\"virus\",\n",
    "    data=df,\n",
    "    drawstyle=\"steps\",\n",
    ")\n",
    "ax.set_yscale(\"log\")\n",
    "ax.set_xlim(60, 100)\n",
    "ax.set_ylim(1e-5, 2e-2)\n",
    "yticks = [[1 * 10**i, 2* 10**i, 5* 10**i] for i in range(-6, 6)]\n",
    "yticks = [[1 * 10**i] for i in range(-6, 6)]\n",
    "ax.yaxis.set_major_locator(plt.FixedLocator(sum(yticks, [])))\n",
    "yticks = [[2 * 10**i, 5* 10**i] for i in range(-6, 6)]\n",
    "ax.yaxis.set_minor_locator(plt.FixedLocator(sum(yticks, [])))\n",
    "ax.yaxis.set_major_formatter(plt.FuncFormatter(lambda x, _: f\"1 in {int(np.round(1 / x)):,}\"))\n",
    "ax.grid(alpha=1.0)\n",
    "ax.grid(alpha=0.3, which=\"minor\", axis=\"y\")\n",
    "ax.set_ylabel(\"Death rate\")\n",
    "ax.set_xlabel(\"Age\")\n",
    "ax.set_title(\"Swedish COVID and flu mortality rate\")"
   ]
  },
  {
   "cell_type": "code",
   "execution_count": 7,
   "metadata": {},
   "outputs": [
    {
     "data": {
      "image/png": "[encoded data removed]",
      "text/plain": [
       "<Figure size 432x288 with 1 Axes>"
      ]
     },
     "metadata": {
      "image/png": {
       "height": 265,
       "width": 405
      },
      "needs_background": "light"
     },
     "output_type": "display_data"
    }
   ],
   "source": [
    "import seaborn as sns\n",
    "import numpy as np\n",
    "import matplotlib.pyplot as plt\n",
    "\n",
    "df[\"deaths per 100k\"] = df[\"death_rate\"] * 100e3\n",
    "ax = sns.lineplot(\n",
    "    x=\"age\",\n",
    "    y=\"deaths per 100k\",\n",
    "    hue=\"virus\",\n",
    "    data=df,\n",
    "    drawstyle=\"steps\",\n",
    ")\n",
    "ax.set_yscale(\"log\")\n",
    "ax.set_xlim(60, 100)\n",
    "ax.set_ylim(1, 2000)\n",
    "ax.grid(alpha=0.6)\n",
    "yticks = [[1 * 10**i, 2* 10**i, 5* 10**i] for i in range(-6, 6)]\n",
    "ax.yaxis.set_major_locator(plt.FixedLocator(sum(yticks, [])))\n",
    "ax.yaxis.set_major_formatter(plt.FuncFormatter(lambda x, _: int(x)))"
   ]
  },
  {
   "cell_type": "code",
   "execution_count": null,
   "metadata": {},
   "outputs": [],
   "source": []
  }
 ],
 "metadata": {
  "kernelspec": {
   "display_name": "Python 3",
   "language": "python",
   "name": "python3"
  },
  "language_info": {
   "codemirror_mode": {
    "name": "ipython",
    "version": 3
   },
   "file_extension": ".py",
   "mimetype": "text/x-python",
   "name": "python",
   "nbconvert_exporter": "python",
   "pygments_lexer": "ipython3",
   "version": "3.7.4"
  }
 },
 "nbformat": 4,
 "nbformat_minor": 4
}
