{
 "cells": [
  {
   "cell_type": "code",
   "execution_count": 1,
   "metadata": {},
   "outputs": [],
   "source": [
    "import pandas as pd"
   ]
  },
  {
   "cell_type": "code",
   "execution_count": 2,
   "metadata": {},
   "outputs": [],
   "source": [
    "url = \"https://opendata.arcgis.com/datasets/b913e9591eae4912b33dc5b4e88646c5_10.csv\"#?outSR=%7B%22latestWkid%22%3A3857%2C%22wkid%22%3A102100%7D\"\n",
    "full_df = pd.read_csv(url)\n"
   ]
  },
  {
   "cell_type": "code",
   "execution_count": 3,
   "metadata": {},
   "outputs": [
    {
     "data": {
      "text/html": [
       "<div>\n",
       "<style scoped>\n",
       "    .dataframe tbody tr th:only-of-type {\n",
       "        vertical-align: middle;\n",
       "    }\n",
       "\n",
       "    .dataframe tbody tr th {\n",
       "        vertical-align: top;\n",
       "    }\n",
       "\n",
       "    .dataframe thead th {\n",
       "        text-align: right;\n",
       "    }\n",
       "</style>\n",
       "<table border=\"1\" class=\"dataframe\">\n",
       "  <thead>\n",
       "    <tr style=\"text-align: right;\">\n",
       "      <th></th>\n",
       "      <th>NEGATIVE</th>\n",
       "      <th>POSITIVE</th>\n",
       "      <th>HOSP_YES</th>\n",
       "      <th>HOSP_NO</th>\n",
       "      <th>HOSP_UNK</th>\n",
       "      <th>POS_0_9</th>\n",
       "      <th>POS_10_19</th>\n",
       "      <th>POS_20_29</th>\n",
       "      <th>POS_30_39</th>\n",
       "      <th>POS_40_49</th>\n",
       "      <th>...</th>\n",
       "      <th>IC_Y_10_19</th>\n",
       "      <th>IC_Y_20_29</th>\n",
       "      <th>IC_Y_30_39</th>\n",
       "      <th>IC_Y_40_49</th>\n",
       "      <th>IC_Y_50_59</th>\n",
       "      <th>IC_Y_60_69</th>\n",
       "      <th>IC_Y_70_79</th>\n",
       "      <th>IC_Y_80_89</th>\n",
       "      <th>IC_Y_90</th>\n",
       "      <th>datetime</th>\n",
       "    </tr>\n",
       "  </thead>\n",
       "  <tbody>\n",
       "    <tr>\n",
       "      <th>0</th>\n",
       "      <td>313.0</td>\n",
       "      <td>32</td>\n",
       "      <td>0.0</td>\n",
       "      <td>0.0</td>\n",
       "      <td>0.0</td>\n",
       "      <td>0.0</td>\n",
       "      <td>0.0</td>\n",
       "      <td>0.0</td>\n",
       "      <td>0.0</td>\n",
       "      <td>0.0</td>\n",
       "      <td>...</td>\n",
       "      <td>0.0</td>\n",
       "      <td>0.0</td>\n",
       "      <td>0.0</td>\n",
       "      <td>0.0</td>\n",
       "      <td>0.0</td>\n",
       "      <td>0.0</td>\n",
       "      <td>0.0</td>\n",
       "      <td>0.0</td>\n",
       "      <td>0.0</td>\n",
       "      <td>2020-03-15</td>\n",
       "    </tr>\n",
       "    <tr>\n",
       "      <th>73</th>\n",
       "      <td>504.0</td>\n",
       "      <td>47</td>\n",
       "      <td>0.0</td>\n",
       "      <td>0.0</td>\n",
       "      <td>0.0</td>\n",
       "      <td>0.0</td>\n",
       "      <td>0.0</td>\n",
       "      <td>0.0</td>\n",
       "      <td>0.0</td>\n",
       "      <td>0.0</td>\n",
       "      <td>...</td>\n",
       "      <td>0.0</td>\n",
       "      <td>0.0</td>\n",
       "      <td>0.0</td>\n",
       "      <td>0.0</td>\n",
       "      <td>0.0</td>\n",
       "      <td>0.0</td>\n",
       "      <td>0.0</td>\n",
       "      <td>0.0</td>\n",
       "      <td>0.0</td>\n",
       "      <td>2020-03-16</td>\n",
       "    </tr>\n",
       "    <tr>\n",
       "      <th>146</th>\n",
       "      <td>1038.0</td>\n",
       "      <td>72</td>\n",
       "      <td>0.0</td>\n",
       "      <td>0.0</td>\n",
       "      <td>0.0</td>\n",
       "      <td>0.0</td>\n",
       "      <td>0.0</td>\n",
       "      <td>0.0</td>\n",
       "      <td>0.0</td>\n",
       "      <td>0.0</td>\n",
       "      <td>...</td>\n",
       "      <td>0.0</td>\n",
       "      <td>0.0</td>\n",
       "      <td>0.0</td>\n",
       "      <td>0.0</td>\n",
       "      <td>0.0</td>\n",
       "      <td>0.0</td>\n",
       "      <td>0.0</td>\n",
       "      <td>0.0</td>\n",
       "      <td>0.0</td>\n",
       "      <td>2020-03-17</td>\n",
       "    </tr>\n",
       "    <tr>\n",
       "      <th>584</th>\n",
       "      <td>403447.0</td>\n",
       "      <td>22932</td>\n",
       "      <td>3061.0</td>\n",
       "      <td>13262.0</td>\n",
       "      <td>6609.0</td>\n",
       "      <td>703.0</td>\n",
       "      <td>1657.0</td>\n",
       "      <td>4403.0</td>\n",
       "      <td>4168.0</td>\n",
       "      <td>3735.0</td>\n",
       "      <td>...</td>\n",
       "      <td>3.0</td>\n",
       "      <td>21.0</td>\n",
       "      <td>35.0</td>\n",
       "      <td>83.0</td>\n",
       "      <td>121.0</td>\n",
       "      <td>187.0</td>\n",
       "      <td>136.0</td>\n",
       "      <td>64.0</td>\n",
       "      <td>28.0</td>\n",
       "      <td>2020-06-15</td>\n",
       "    </tr>\n",
       "    <tr>\n",
       "      <th>1010</th>\n",
       "      <td>414330.0</td>\n",
       "      <td>23198</td>\n",
       "      <td>3096.0</td>\n",
       "      <td>13478.0</td>\n",
       "      <td>6624.0</td>\n",
       "      <td>713.0</td>\n",
       "      <td>1684.0</td>\n",
       "      <td>4480.0</td>\n",
       "      <td>4216.0</td>\n",
       "      <td>3761.0</td>\n",
       "      <td>...</td>\n",
       "      <td>3.0</td>\n",
       "      <td>22.0</td>\n",
       "      <td>35.0</td>\n",
       "      <td>83.0</td>\n",
       "      <td>124.0</td>\n",
       "      <td>189.0</td>\n",
       "      <td>136.0</td>\n",
       "      <td>66.0</td>\n",
       "      <td>27.0</td>\n",
       "      <td>2020-06-16</td>\n",
       "    </tr>\n",
       "  </tbody>\n",
       "</table>\n",
       "<p>5 rows × 68 columns</p>\n",
       "</div>"
      ],
      "text/plain": [
       "      NEGATIVE  POSITIVE  HOSP_YES  HOSP_NO  HOSP_UNK  POS_0_9  POS_10_19  \\\n",
       "0        313.0        32       0.0      0.0       0.0      0.0        0.0   \n",
       "73       504.0        47       0.0      0.0       0.0      0.0        0.0   \n",
       "146     1038.0        72       0.0      0.0       0.0      0.0        0.0   \n",
       "584   403447.0     22932    3061.0  13262.0    6609.0    703.0     1657.0   \n",
       "1010  414330.0     23198    3096.0  13478.0    6624.0    713.0     1684.0   \n",
       "\n",
       "      POS_20_29  POS_30_39  POS_40_49  ...  IC_Y_10_19  IC_Y_20_29  \\\n",
       "0           0.0        0.0        0.0  ...         0.0         0.0   \n",
       "73          0.0        0.0        0.0  ...         0.0         0.0   \n",
       "146         0.0        0.0        0.0  ...         0.0         0.0   \n",
       "584      4403.0     4168.0     3735.0  ...         3.0        21.0   \n",
       "1010     4480.0     4216.0     3761.0  ...         3.0        22.0   \n",
       "\n",
       "      IC_Y_30_39  IC_Y_40_49  IC_Y_50_59  IC_Y_60_69  IC_Y_70_79  IC_Y_80_89  \\\n",
       "0            0.0         0.0         0.0         0.0         0.0         0.0   \n",
       "73           0.0         0.0         0.0         0.0         0.0         0.0   \n",
       "146          0.0         0.0         0.0         0.0         0.0         0.0   \n",
       "584         35.0        83.0       121.0       187.0       136.0        64.0   \n",
       "1010        35.0        83.0       124.0       189.0       136.0        66.0   \n",
       "\n",
       "      IC_Y_90   datetime  \n",
       "0         0.0 2020-03-15  \n",
       "73        0.0 2020-03-16  \n",
       "146       0.0 2020-03-17  \n",
       "584      28.0 2020-06-15  \n",
       "1010     27.0 2020-06-16  \n",
       "\n",
       "[5 rows x 68 columns]"
      ]
     },
     "execution_count": 3,
     "metadata": {},
     "output_type": "execute_result"
    }
   ],
   "source": [
    "from datetime import datetime\n",
    "def _get_date(x):\n",
    "    y, m, d = x.split(\"/\")\n",
    "    d, _ = d.split(\" \")\n",
    "    return datetime(int(y), int(m), int(d))\n",
    "\n",
    "df = full_df.fillna(0).replace({-999: 0, -888: 0})\n",
    "df = df[df.NAME == \"WI\"].copy()\n",
    "df[\"datetime\"] = df[\"DATE\"].apply(_get_date)\n",
    "\n",
    "ignore = [\n",
    "    'POS_AIAN', 'POS_ASN', 'POS_BLK', 'POS_WHT', 'POS_MLTOTH', 'POS_UNK',\n",
    "       'POS_E_HSP', 'POS_E_NHSP', 'POS_E_UNK', 'DTH_AIAN', 'DTH_ASN',\n",
    "       'DTH_BLK', 'DTH_WHT', 'DTH_MLTOTH', 'DTH_UNK', 'DTH_E_HSP',\n",
    "       'DTH_E_NHSP', 'DTH_E_UNK', 'POS_HC_Y', 'POS_HC_N', 'POS_HC_UNK',\n",
    "       'DTH_NEW', 'POS_NEW', 'NEG_NEW', 'TEST_NEW',\n",
    "    \"POS_FEM\", \"POS_MALE\", \"POS_OTH\", \"DTHS_FEM\", \"DTHS_MALE\", \"DTHS_OTH\",\n",
    "    \"OBJECTID\", \"GEOID\", \"GEO\", \"NAME\", \"LoadDttm\", \"DATE\",\n",
    "]\n",
    "df = df.drop(columns=ignore)\n",
    "\n",
    "df.head()"
   ]
  },
  {
   "cell_type": "markdown",
   "metadata": {},
   "source": [
    "Description of data:  https://www.dhs.wisconsin.gov/publications/p02677.pdf\n",
    "\n",
    "Notably, numbers are *cumulative.* All numbers below are agres 50 to 59."
   ]
  },
  {
   "cell_type": "markdown",
   "metadata": {},
   "source": [
    "`IP_{Y, N, U}_50_59`: positive and {were hospitalized, were not hospitalized, unknown}."
   ]
  },
  {
   "cell_type": "markdown",
   "metadata": {},
   "source": [
    "`IC_{Y, N, U}_50_59`: positive and {were in ICU, were not not in ICU, unknown}."
   ]
  },
  {
   "cell_type": "markdown",
   "metadata": {},
   "source": [
    "`DTHS_50_59`: died from COVID."
   ]
  },
  {
   "cell_type": "markdown",
   "metadata": {},
   "source": [
    "`POS_50_59`: tested positive."
   ]
  },
  {
   "cell_type": "markdown",
   "metadata": {},
   "source": [
    "Plan:\n",
    "\n",
    "Columns:\n",
    "\n",
    "* Age range.\n",
    "* Date.\n",
    "* positive, deaths, hospitalized, icu.\n",
    "* Negative, positive, hosp status, deaths\n"
   ]
  },
  {
   "cell_type": "code",
   "execution_count": 4,
   "metadata": {},
   "outputs": [
    {
     "data": {
      "text/plain": [
       "Index(['NEGATIVE', 'POSITIVE', 'HOSP_YES', 'HOSP_NO', 'HOSP_UNK', 'POS_0_9',\n",
       "       'POS_10_19', 'POS_20_29', 'POS_30_39', 'POS_40_49', 'POS_50_59',\n",
       "       'POS_60_69', 'POS_70_79', 'POS_80_89', 'POS_90', 'DEATHS', 'DTHS_0_9',\n",
       "       'DTHS_10_19', 'DTHS_20_29', 'DTHS_30_39', 'DTHS_40_49', 'DTHS_50_59',\n",
       "       'DTHS_60_69', 'DTHS_70_79', 'DTHS_80_89', 'DTHS_90', 'IP_Y_0_9',\n",
       "       'IP_Y_10_19', 'IP_Y_20_29', 'IP_Y_30_39', 'IP_Y_40_49', 'IP_Y_50_59',\n",
       "       'IP_Y_60_69', 'IP_Y_70_79', 'IP_Y_80_89', 'IP_Y_90', 'IP_N_0_9',\n",
       "       'IP_N_10_19', 'IP_N_20_29', 'IP_N_30_39', 'IP_N_40_49', 'IP_N_50_59',\n",
       "       'IP_N_60_69', 'IP_N_70_79', 'IP_N_80_89', 'IP_N_90', 'IP_U_0_9',\n",
       "       'IP_U_10_19', 'IP_U_20_29', 'IP_U_30_39', 'IP_U_40_49', 'IP_U_50_59',\n",
       "       'IP_U_60_69', 'IP_U_70_79', 'IP_U_80_89', 'IP_U_90', 'IC_YES',\n",
       "       'IC_Y_0_9', 'IC_Y_10_19', 'IC_Y_20_29', 'IC_Y_30_39', 'IC_Y_40_49',\n",
       "       'IC_Y_50_59', 'IC_Y_60_69', 'IC_Y_70_79', 'IC_Y_80_89', 'IC_Y_90',\n",
       "       'datetime'],\n",
       "      dtype='object')"
      ]
     },
     "execution_count": 4,
     "metadata": {},
     "output_type": "execute_result"
    }
   ],
   "source": [
    "df.columns"
   ]
  },
  {
   "cell_type": "code",
   "execution_count": 5,
   "metadata": {},
   "outputs": [
    {
     "data": {
      "text/plain": [
       "Index(['NEGATIVE', 'POSITIVE', 'HOSP_YES', 'HOSP_NO', 'HOSP_UNK', 'POS_0_9',\n",
       "       'POS_10_19', 'POS_20_29', 'POS_30_39', 'POS_40_49', 'POS_50_59',\n",
       "       'POS_60_69', 'POS_70_79', 'POS_80_89', 'POS_90', 'DEATHS', 'DTHS_0_9',\n",
       "       'DTHS_10_19', 'DTHS_20_29', 'DTHS_30_39', 'DTHS_40_49', 'DTHS_50_59',\n",
       "       'DTHS_60_69', 'DTHS_70_79', 'DTHS_80_89', 'DTHS_90', 'IP_Y_0_9',\n",
       "       'IP_Y_10_19', 'IP_Y_20_29', 'IP_Y_30_39', 'IP_Y_40_49', 'IP_Y_50_59',\n",
       "       'IP_Y_60_69', 'IP_Y_70_79', 'IP_Y_80_89', 'IP_Y_90', 'IP_N_0_9',\n",
       "       'IP_N_10_19', 'IP_N_20_29', 'IP_N_30_39', 'IP_N_40_49', 'IP_N_50_59',\n",
       "       'IP_N_60_69', 'IP_N_70_79', 'IP_N_80_89', 'IP_N_90', 'IP_U_0_9',\n",
       "       'IP_U_10_19', 'IP_U_20_29', 'IP_U_30_39', 'IP_U_40_49', 'IP_U_50_59',\n",
       "       'IP_U_60_69', 'IP_U_70_79', 'IP_U_80_89', 'IP_U_90', 'IC_YES',\n",
       "       'IC_Y_0_9', 'IC_Y_10_19', 'IC_Y_20_29', 'IC_Y_30_39', 'IC_Y_40_49',\n",
       "       'IC_Y_50_59', 'IC_Y_60_69', 'IC_Y_70_79', 'IC_Y_80_89', 'IC_Y_90',\n",
       "       'datetime'],\n",
       "      dtype='object')"
      ]
     },
     "execution_count": 5,
     "metadata": {},
     "output_type": "execute_result"
    }
   ],
   "source": [
    "df.columns"
   ]
  },
  {
   "cell_type": "code",
   "execution_count": 6,
   "metadata": {},
   "outputs": [],
   "source": [
    "import numpy as np\n",
    "\n",
    "summary = df[[\"NEGATIVE\", \"POSITIVE\", \"HOSP_YES\", \"HOSP_NO\", \"HOSP_UNK\", \"DEATHS\", \"IC_YES\", \"datetime\"]].copy()\n",
    "summary = summary.groupby(\"datetime\").mean()\n",
    "summary.sort_values(by=\"datetime\", inplace=True)\n",
    "summary[\"death_rate\"] = summary[\"DEATHS\"] / summary[\"POSITIVE\"]\n",
    "summary[\"hosp_rate\"] = summary[\"HOSP_YES\"] / summary[\"POSITIVE\"]\n",
    "summary[\"icu_rate\"] = summary[\"IC_YES\"] / summary[\"POSITIVE\"]\n",
    "summary[\"illness_rate\"] = summary[\"POSITIVE\"] / (summary[\"POSITIVE\"] + summary[\"NEGATIVE\"])"
   ]
  },
  {
   "cell_type": "markdown",
   "metadata": {},
   "source": [
    "Source for common cold data: https://www.cdc.gov/flu/about/burden/2018-2019.html"
   ]
  },
  {
   "cell_type": "code",
   "execution_count": 7,
   "metadata": {},
   "outputs": [],
   "source": [
    "flu = {\n",
    "    \"illness\": (5861.40, (3831.5, 11502.1)),\n",
    "    \"medical_visit\": (3282.40, (2093.2, 6457.1)),\n",
    "    \"hosp\": (532.9, (348.3, 1045.6)),\n",
    "    \"death\": (48.7, (34.1, 78.9)),\n",
    "}\n",
    "\n",
    "for name, (est, (lb, ub)) in flu.items():\n",
    "    flu[name] = (est / 100e3, (lb / 100e3, ub / 100e3))"
   ]
  },
  {
   "cell_type": "code",
   "execution_count": 8,
   "metadata": {},
   "outputs": [
    {
     "data": {
      "text/plain": [
       "<matplotlib.legend.Legend at 0x1628580d0>"
      ]
     },
     "execution_count": 8,
     "metadata": {},
     "output_type": "execute_result"
    },
    {
     "data": {
      "image/png": "[encoded data removed]",
      "text/plain": [
       "<Figure size 432x288 with 1 Axes>"
      ]
     },
     "metadata": {
      "image/png": {
       "height": 272,
       "width": 378
      },
      "needs_background": "light"
     },
     "output_type": "display_data"
    }
   ],
   "source": [
    "# ax = summary.plot(y=[\"death_rate\", \"hosp_rate\", \"icu_rate\", \"illness_rate\"])\n",
    "ax = summary.plot(\n",
    "    y=[\"death_rate\", \"hosp_rate\", \"illness_rate\"],\n",
    "    color=[\"C0\", \"C1\", \"C3\"],\n",
    ")\n",
    "ax.grid(alpha=0.6)\n",
    "\n",
    "colors = {\n",
    "    \"death\": \"C0\",\n",
    "    \"hosp\": \"C1\",\n",
    "    \"icu\": \"C2\",\n",
    "    \"illness\": \"C3\",\n",
    "}\n",
    "for name, (est, (lb, ub)) in flu.items():\n",
    "    if \"visit\" in name:\n",
    "        continue\n",
    "    ax.plot(ax.get_xlim(), [est, est], colors[name] + \"--\", label=name)\n",
    "#     ax.fill_between(ax.get_xlim(), [lb, lb], [ub, ub], label=name)\n",
    "ax.legend(loc=\"best\")\n",
    "\n",
    "# ax.set_yscale(\"log\")"
   ]
  },
  {
   "cell_type": "code",
   "execution_count": 9,
   "metadata": {},
   "outputs": [
    {
     "data": {
      "image/png": "[encoded data removed]",
      "text/plain": [
       "<Figure size 432x288 with 1 Axes>"
      ]
     },
     "metadata": {
      "image/png": {
       "height": 274,
       "width": 367
      },
      "needs_background": "light"
     },
     "output_type": "display_data"
    }
   ],
   "source": [
    "relative = summary.copy()\n",
    "relative[\"hosp_rate\"] /= flu[\"hosp\"][0]\n",
    "relative[\"death_rate\"] /= flu[\"death\"][0]\n",
    "relative[\"illness_rate\"] /= flu[\"illness\"][0]\n",
    "ax = relative.plot(y=[\"hosp_rate\", \"death_rate\", \"illness_rate\"])\n",
    "ax.set_yscale(\"log\", basey=2)"
   ]
  },
  {
   "cell_type": "markdown",
   "metadata": {},
   "source": [
    "Look at this plot *per age.*\n",
    "\n",
    "* x: age\n",
    "* y: relative cost to flu.\n",
    "* color: hosp/death/illness."
   ]
  },
  {
   "cell_type": "code",
   "execution_count": 10,
   "metadata": {},
   "outputs": [
    {
     "data": {
      "text/html": [
       "<div>\n",
       "<style scoped>\n",
       "    .dataframe tbody tr th:only-of-type {\n",
       "        vertical-align: middle;\n",
       "    }\n",
       "\n",
       "    .dataframe tbody tr th {\n",
       "        vertical-align: top;\n",
       "    }\n",
       "\n",
       "    .dataframe thead th {\n",
       "        text-align: right;\n",
       "    }\n",
       "</style>\n",
       "<table border=\"1\" class=\"dataframe\">\n",
       "  <thead>\n",
       "    <tr style=\"text-align: right;\">\n",
       "      <th></th>\n",
       "      <th>datetime</th>\n",
       "      <th>variable</th>\n",
       "      <th>value</th>\n",
       "      <th>age</th>\n",
       "    </tr>\n",
       "  </thead>\n",
       "  <tbody>\n",
       "    <tr>\n",
       "      <th>0</th>\n",
       "      <td>2020-03-15</td>\n",
       "      <td>POS</td>\n",
       "      <td>0.0</td>\n",
       "      <td>0</td>\n",
       "    </tr>\n",
       "    <tr>\n",
       "      <th>1</th>\n",
       "      <td>2020-03-16</td>\n",
       "      <td>POS</td>\n",
       "      <td>0.0</td>\n",
       "      <td>0</td>\n",
       "    </tr>\n",
       "    <tr>\n",
       "      <th>2</th>\n",
       "      <td>2020-03-17</td>\n",
       "      <td>POS</td>\n",
       "      <td>0.0</td>\n",
       "      <td>0</td>\n",
       "    </tr>\n",
       "    <tr>\n",
       "      <th>3</th>\n",
       "      <td>2020-06-15</td>\n",
       "      <td>POS</td>\n",
       "      <td>703.0</td>\n",
       "      <td>0</td>\n",
       "    </tr>\n",
       "    <tr>\n",
       "      <th>4</th>\n",
       "      <td>2020-06-16</td>\n",
       "      <td>POS</td>\n",
       "      <td>713.0</td>\n",
       "      <td>0</td>\n",
       "    </tr>\n",
       "  </tbody>\n",
       "</table>\n",
       "</div>"
      ],
      "text/plain": [
       "    datetime variable  value  age\n",
       "0 2020-03-15      POS    0.0    0\n",
       "1 2020-03-16      POS    0.0    0\n",
       "2 2020-03-17      POS    0.0    0\n",
       "3 2020-06-15      POS  703.0    0\n",
       "4 2020-06-16      POS  713.0    0"
      ]
     },
     "execution_count": 10,
     "metadata": {},
     "output_type": "execute_result"
    }
   ],
   "source": [
    "d = df.drop(columns=[\"NEGATIVE\", \"POSITIVE\", \"HOSP_YES\", \"HOSP_NO\", \"HOSP_UNK\", \"DEATHS\", \"IC_YES\"]).melt(id_vars=\"datetime\")\n",
    "d[\"variable\"] = d[\"variable\"].apply(lambda x: x + \"_99\" if \"_90\" in x else x)\n",
    "\n",
    "d[\"age\"] = d[\"variable\"].apply(lambda x: int(x.split(\"_\")[-2]))\n",
    "assert np.allclose(d[\"age\"] % 10, 0)\n",
    "d[\"variable\"] = d[\"variable\"].apply(lambda x: \"_\".join(x.split(\"_\")[:-2]))\n",
    "d.head()"
   ]
  },
  {
   "cell_type": "code",
   "execution_count": 11,
   "metadata": {},
   "outputs": [
    {
     "data": {
      "text/html": [
       "<div>\n",
       "<style scoped>\n",
       "    .dataframe tbody tr th:only-of-type {\n",
       "        vertical-align: middle;\n",
       "    }\n",
       "\n",
       "    .dataframe tbody tr th {\n",
       "        vertical-align: top;\n",
       "    }\n",
       "\n",
       "    .dataframe thead th {\n",
       "        text-align: right;\n",
       "    }\n",
       "</style>\n",
       "<table border=\"1\" class=\"dataframe\">\n",
       "  <thead>\n",
       "    <tr style=\"text-align: right;\">\n",
       "      <th></th>\n",
       "      <th>datetime</th>\n",
       "      <th>variable</th>\n",
       "      <th>value</th>\n",
       "      <th>age</th>\n",
       "    </tr>\n",
       "  </thead>\n",
       "  <tbody>\n",
       "    <tr>\n",
       "      <th>0</th>\n",
       "      <td>2020-03-15</td>\n",
       "      <td>positive</td>\n",
       "      <td>0.0</td>\n",
       "      <td>0</td>\n",
       "    </tr>\n",
       "    <tr>\n",
       "      <th>1</th>\n",
       "      <td>2020-03-16</td>\n",
       "      <td>positive</td>\n",
       "      <td>0.0</td>\n",
       "      <td>0</td>\n",
       "    </tr>\n",
       "    <tr>\n",
       "      <th>2</th>\n",
       "      <td>2020-03-17</td>\n",
       "      <td>positive</td>\n",
       "      <td>0.0</td>\n",
       "      <td>0</td>\n",
       "    </tr>\n",
       "    <tr>\n",
       "      <th>3</th>\n",
       "      <td>2020-06-15</td>\n",
       "      <td>positive</td>\n",
       "      <td>703.0</td>\n",
       "      <td>0</td>\n",
       "    </tr>\n",
       "    <tr>\n",
       "      <th>4</th>\n",
       "      <td>2020-06-16</td>\n",
       "      <td>positive</td>\n",
       "      <td>713.0</td>\n",
       "      <td>0</td>\n",
       "    </tr>\n",
       "  </tbody>\n",
       "</table>\n",
       "</div>"
      ],
      "text/plain": [
       "    datetime  variable  value  age\n",
       "0 2020-03-15  positive    0.0    0\n",
       "1 2020-03-16  positive    0.0    0\n",
       "2 2020-03-17  positive    0.0    0\n",
       "3 2020-06-15  positive  703.0    0\n",
       "4 2020-06-16  positive  713.0    0"
      ]
     },
     "execution_count": 11,
     "metadata": {},
     "output_type": "execute_result"
    }
   ],
   "source": [
    "d.loc[d.variable == \"POS\", \"variable\"] = \"positive\"\n",
    "d.loc[d.variable == \"DTHS\", \"variable\"] = \"dead\"\n",
    "d.loc[d.variable == \"IC_Y\", \"variable\"] = \"icu_admit\"\n",
    "d.loc[d.variable == \"IC_N\", \"variable\"] = \"icu_never\"\n",
    "d.loc[d.variable == \"IC_U\", \"variable\"] = \"icu_unknown\"\n",
    "d.loc[d.variable == \"IP_Y\", \"variable\"] = \"hosp_admit\"\n",
    "d.loc[d.variable == \"IP_N\", \"variable\"] = \"hosp_never\"\n",
    "d.loc[d.variable == \"IP_U\", \"variable\"] = \"hosp_unknown\"\n",
    "d.head()"
   ]
  },
  {
   "cell_type": "code",
   "execution_count": 62,
   "metadata": {},
   "outputs": [],
   "source": [
    "date = d[\"datetime\"].max()\n",
    "final_vals = d[d[\"datetime\"] == date]\n",
    "covid = final_vals.pivot_table(\n",
    "    index=\"age\",\n",
    "    values=\"value\",\n",
    "    columns=\"variable\",\n",
    ")\n",
    "covid[\"death_rate\"] = covid[\"dead\"] / covid[\"positive\"]\n",
    "covid[\"hosp_admit_rate\"] = covid[\"hosp_admit\"] / covid[\"positive\"]\n",
    "covid[\"icu_rate\"] = covid[\"icu_admit\"] / covid[\"positive\"]\n",
    "\n",
    "covid[\"max_age\"] = covid.index + 10\n",
    "covid[\"min_age\"] = covid.index + 0\n",
    "covid[\"virus\"] = \"covid\""
   ]
  },
  {
   "cell_type": "markdown",
   "metadata": {},
   "source": [
    "Look at death and hospitalization rates."
   ]
  },
  {
   "cell_type": "markdown",
   "metadata": {},
   "source": [
    "From table 2 of https://www.cdc.gov/flu/about/burden/2018-2019.html:"
   ]
  },
  {
   "cell_type": "code",
   "execution_count": 63,
   "metadata": {},
   "outputs": [
    {
     "data": {
      "text/html": [
       "<div>\n",
       "<style scoped>\n",
       "    .dataframe tbody tr th:only-of-type {\n",
       "        vertical-align: middle;\n",
       "    }\n",
       "\n",
       "    .dataframe tbody tr th {\n",
       "        vertical-align: top;\n",
       "    }\n",
       "\n",
       "    .dataframe thead th {\n",
       "        text-align: right;\n",
       "    }\n",
       "</style>\n",
       "<table border=\"1\" class=\"dataframe\">\n",
       "  <thead>\n",
       "    <tr style=\"text-align: right;\">\n",
       "      <th></th>\n",
       "      <th>Age group</th>\n",
       "      <th>med_visit_rate</th>\n",
       "      <th>hosp_admit_rate</th>\n",
       "      <th>death_rate</th>\n",
       "      <th>illness_rate</th>\n",
       "      <th>max_age</th>\n",
       "      <th>min_age</th>\n",
       "      <th>virus</th>\n",
       "    </tr>\n",
       "  </thead>\n",
       "  <tbody>\n",
       "    <tr>\n",
       "      <th>0</th>\n",
       "      <td>0-4 yrs</td>\n",
       "      <td>0.183395</td>\n",
       "      <td>0.122875</td>\n",
       "      <td>0.000013</td>\n",
       "      <td>0.001279</td>\n",
       "      <td>5</td>\n",
       "      <td>0</td>\n",
       "      <td>flu</td>\n",
       "    </tr>\n",
       "    <tr>\n",
       "      <th>1</th>\n",
       "      <td>5-17 yrs</td>\n",
       "      <td>0.143001</td>\n",
       "      <td>0.074361</td>\n",
       "      <td>0.000004</td>\n",
       "      <td>0.000392</td>\n",
       "      <td>17</td>\n",
       "      <td>5</td>\n",
       "      <td>flu</td>\n",
       "    </tr>\n",
       "    <tr>\n",
       "      <th>2</th>\n",
       "      <td>18-49 yrs</td>\n",
       "      <td>0.086215</td>\n",
       "      <td>0.031900</td>\n",
       "      <td>0.000018</td>\n",
       "      <td>0.000484</td>\n",
       "      <td>49</td>\n",
       "      <td>18</td>\n",
       "      <td>flu</td>\n",
       "    </tr>\n",
       "    <tr>\n",
       "      <th>3</th>\n",
       "      <td>50-64 yrs</td>\n",
       "      <td>0.146271</td>\n",
       "      <td>0.062896</td>\n",
       "      <td>0.000090</td>\n",
       "      <td>0.001551</td>\n",
       "      <td>64</td>\n",
       "      <td>50</td>\n",
       "      <td>flu</td>\n",
       "    </tr>\n",
       "    <tr>\n",
       "      <th>4</th>\n",
       "      <td>65+ yrs</td>\n",
       "      <td>0.058614</td>\n",
       "      <td>0.032824</td>\n",
       "      <td>0.000487</td>\n",
       "      <td>0.005329</td>\n",
       "      <td>100</td>\n",
       "      <td>65</td>\n",
       "      <td>flu</td>\n",
       "    </tr>\n",
       "  </tbody>\n",
       "</table>\n",
       "</div>"
      ],
      "text/plain": [
       "   Age group  med_visit_rate  hosp_admit_rate  death_rate  illness_rate  \\\n",
       "0    0-4 yrs        0.183395         0.122875    0.000013      0.001279   \n",
       "1   5-17 yrs        0.143001         0.074361    0.000004      0.000392   \n",
       "2  18-49 yrs        0.086215         0.031900    0.000018      0.000484   \n",
       "3  50-64 yrs        0.146271         0.062896    0.000090      0.001551   \n",
       "4    65+ yrs        0.058614         0.032824    0.000487      0.005329   \n",
       "\n",
       "   max_age  min_age virus  \n",
       "0        5        0   flu  \n",
       "1       17        5   flu  \n",
       "2       49       18   flu  \n",
       "3       64       50   flu  \n",
       "4      100       65   flu  "
      ]
     },
     "execution_count": 63,
     "metadata": {},
     "output_type": "execute_result"
    }
   ],
   "source": [
    "with open(\"cdc-flu-rates-estimate.html\", \"r\") as f:\n",
    "    flu = pd.read_html(f)[0]\n",
    "flu = flu.set_index((\"Unnamed: 0_level_0\", \"Age group\"))\n",
    "flu.index.name = \"Age group\"\n",
    "uniq_cols = list({name for name, descriptor in flu.columns})\n",
    "show_cols = [(c, \"Estimate\") for c in uniq_cols]\n",
    "flu = flu[show_cols]\n",
    "flu.columns = uniq_cols\n",
    "flu.columns = [\"med_visit_rate\", \"hosp_admit_rate\", \"death_rate\", \"illness_rate\"]\n",
    "flu /= 100e3\n",
    "assert (flu.index == ['0-4 yrs', '5-17 yrs', '18-49 yrs', '50-64 yrs', '65+ yrs']).all()\n",
    "flu[\"max_age\"] = [5, 17, 49, 64, 100]\n",
    "flu[\"min_age\"] = [0, 5, 18, 50, 65]\n",
    "flu = flu.reset_index()\n",
    "flu[\"virus\"] = \"flu\"\n",
    "flu"
   ]
  },
  {
   "cell_type": "code",
   "execution_count": 64,
   "metadata": {},
   "outputs": [
    {
     "data": {
      "text/html": [
       "<div>\n",
       "<style scoped>\n",
       "    .dataframe tbody tr th:only-of-type {\n",
       "        vertical-align: middle;\n",
       "    }\n",
       "\n",
       "    .dataframe tbody tr th {\n",
       "        vertical-align: top;\n",
       "    }\n",
       "\n",
       "    .dataframe thead th {\n",
       "        text-align: right;\n",
       "    }\n",
       "</style>\n",
       "<table border=\"1\" class=\"dataframe\">\n",
       "  <thead>\n",
       "    <tr style=\"text-align: right;\">\n",
       "      <th></th>\n",
       "      <th>min_age</th>\n",
       "      <th>max_age</th>\n",
       "      <th>virus</th>\n",
       "      <th>variable</th>\n",
       "      <th>fraction</th>\n",
       "    </tr>\n",
       "  </thead>\n",
       "  <tbody>\n",
       "    <tr>\n",
       "      <th>0</th>\n",
       "      <td>0</td>\n",
       "      <td>5</td>\n",
       "      <td>flu</td>\n",
       "      <td>hosp_admit_rate</td>\n",
       "      <td>0.122875</td>\n",
       "    </tr>\n",
       "    <tr>\n",
       "      <th>1</th>\n",
       "      <td>5</td>\n",
       "      <td>17</td>\n",
       "      <td>flu</td>\n",
       "      <td>hosp_admit_rate</td>\n",
       "      <td>0.074361</td>\n",
       "    </tr>\n",
       "    <tr>\n",
       "      <th>2</th>\n",
       "      <td>18</td>\n",
       "      <td>49</td>\n",
       "      <td>flu</td>\n",
       "      <td>hosp_admit_rate</td>\n",
       "      <td>0.031900</td>\n",
       "    </tr>\n",
       "    <tr>\n",
       "      <th>3</th>\n",
       "      <td>50</td>\n",
       "      <td>64</td>\n",
       "      <td>flu</td>\n",
       "      <td>hosp_admit_rate</td>\n",
       "      <td>0.062896</td>\n",
       "    </tr>\n",
       "    <tr>\n",
       "      <th>4</th>\n",
       "      <td>65</td>\n",
       "      <td>100</td>\n",
       "      <td>flu</td>\n",
       "      <td>hosp_admit_rate</td>\n",
       "      <td>0.032824</td>\n",
       "    </tr>\n",
       "  </tbody>\n",
       "</table>\n",
       "</div>"
      ],
      "text/plain": [
       "   min_age  max_age virus         variable  fraction\n",
       "0        0        5   flu  hosp_admit_rate  0.122875\n",
       "1        5       17   flu  hosp_admit_rate  0.074361\n",
       "2       18       49   flu  hosp_admit_rate  0.031900\n",
       "3       50       64   flu  hosp_admit_rate  0.062896\n",
       "4       65      100   flu  hosp_admit_rate  0.032824"
      ]
     },
     "execution_count": 64,
     "metadata": {},
     "output_type": "execute_result"
    }
   ],
   "source": [
    "cols = [\"min_age\", \"max_age\", \"hosp_admit_rate\", \"death_rate\", \"virus\"]\n",
    "show = pd.concat((flu, covid))[cols]\n",
    "show = show.melt(id_vars=[\"min_age\", \"max_age\", \"virus\"], value_name=\"fraction\")\n",
    "show.head()"
   ]
  },
  {
   "cell_type": "code",
   "execution_count": 72,
   "metadata": {},
   "outputs": [
    {
     "data": {
      "text/plain": [
       "Text(0.5, 0, 'Age')"
      ]
     },
     "execution_count": 72,
     "metadata": {},
     "output_type": "execute_result"
    },
    {
     "data": {
      "image/png": "[encoded data removed]",
      "text/plain": [
       "<Figure size 288x288 with 1 Axes>"
      ]
     },
     "metadata": {
      "image/png": {
       "height": 277,
       "width": 274
      },
      "needs_background": "light"
     },
     "output_type": "display_data"
    }
   ],
   "source": [
    "import matplotlib.pyplot as plt\n",
    "\n",
    "w = 4\n",
    "fig, ax = plt.subplots(ncols=1, figsize=(w, w))\n",
    "\n",
    "import seaborn as sns\n",
    "ax = sns.lineplot(\n",
    "    x=\"min_age\",\n",
    "    y=\"fraction\",\n",
    "    hue=\"virus\",\n",
    "    data=show[show.variable == \"hosp_admit_rate\"],\n",
    "    ax=ax,\n",
    "    drawstyle=\"steps-post\",\n",
    ")\n",
    "ax.set_title(\"Hospitalization rate\")\n",
    "ax.set_ylabel(\"Percentage\")\n",
    "ax.set_xlabel(\"Age\")\n",
    "# ax.set_yscale(\"log\", basey=2)"
   ]
  },
  {
   "cell_type": "code",
   "execution_count": null,
   "metadata": {},
   "outputs": [],
   "source": [
    "import matplotlib.pyplot as plt\n",
    "\n",
    "w = 4\n",
    "fig, ax = plt.subplots(ncols=1, figsize=(w, w))\n",
    "\n",
    "import seaborn as sns\n",
    "ax = sns.lineplot(\n",
    "    x=\"min_age\",\n",
    "    y=\"fraction\",\n",
    "    hue=\"virus\",\n",
    "    data=show[show.variable == \"death_rate\"],\n",
    "    ax=ax,\n",
    "    drawstyle=\"steps-post\",\n",
    ")\n",
    "ax.set_title(\"Death rate\")\n",
    "ax.set_ylabel(\"Percentage\")\n",
    "ax.set_xlabel(\"Age\")\n",
    "ax.set_yscale(\"log\", basey=10)"
   ]
  },
  {
   "cell_type": "code",
   "execution_count": 37,
   "metadata": {},
   "outputs": [
    {
     "data": {
      "text/html": [
       "\n",
       "<div id=\"altair-viz-f8235e53395647f19c92fe12e2b3eae1\"></div>\n",
       "<script type=\"text/javascript\">\n",
       "  (function(spec, embedOpt){\n",
       "    let outputDiv = document.currentScript.previousElementSibling;\n",
       "    if (outputDiv.id !== \"altair-viz-f8235e53395647f19c92fe12e2b3eae1\") {\n",
       "      outputDiv = document.getElementById(\"altair-viz-f8235e53395647f19c92fe12e2b3eae1\");\n",
       "    }\n",
       "    const paths = {\n",
       "      \"vega\": \"https://cdn.jsdelivr.net/npm//vega@5?noext\",\n",
       "      \"vega-lib\": \"https://cdn.jsdelivr.net/npm//vega-lib?noext\",\n",
       "      \"vega-lite\": \"https://cdn.jsdelivr.net/npm//vega-lite@4.8.1?noext\",\n",
       "      \"vega-embed\": \"https://cdn.jsdelivr.net/npm//vega-embed@6?noext\",\n",
       "    };\n",
       "\n",
       "    function loadScript(lib) {\n",
       "      return new Promise(function(resolve, reject) {\n",
       "        var s = document.createElement('script');\n",
       "        s.src = paths[lib];\n",
       "        s.async = true;\n",
       "        s.onload = () => resolve(paths[lib]);\n",
       "        s.onerror = () => reject(`Error loading script: ${paths[lib]}`);\n",
       "        document.getElementsByTagName(\"head\")[0].appendChild(s);\n",
       "      });\n",
       "    }\n",
       "\n",
       "    function showError(err) {\n",
       "      outputDiv.innerHTML = `<div class=\"error\" style=\"color:red;\">${err}</div>`;\n",
       "      throw err;\n",
       "    }\n",
       "\n",
       "    function displayChart(vegaEmbed) {\n",
       "      vegaEmbed(outputDiv, spec, embedOpt)\n",
       "        .catch(err => showError(`Javascript Error: ${err.message}<br>This usually means there's a typo in your chart specification. See the javascript console for the full traceback.`));\n",
       "    }\n",
       "\n",
       "    if(typeof define === \"function\" && define.amd) {\n",
       "      requirejs.config({paths});\n",
       "      require([\"vega-embed\"], displayChart, err => showError(`Error loading script: ${err.message}`));\n",
       "    } else if (typeof vegaEmbed === \"function\") {\n",
       "      displayChart(vegaEmbed);\n",
       "    } else {\n",
       "      loadScript(\"vega\")\n",
       "        .then(() => loadScript(\"vega-lite\"))\n",
       "        .then(() => loadScript(\"vega-embed\"))\n",
       "        .catch(showError)\n",
       "        .then(() => displayChart(vegaEmbed));\n",
       "    }\n",
       "  })({\"config\": {\"view\": {\"continuousWidth\": 400, \"continuousHeight\": 300}}, \"data\": {\"name\": \"data-a2a004e8ffe84ee07032be3af807f226\"}, \"mark\": {\"type\": \"line\", \"interpolate\": \"step-after\"}, \"encoding\": {\"color\": {\"type\": \"nominal\", \"field\": \"virus\"}, \"column\": {\"type\": \"nominal\", \"field\": \"variable\"}, \"x\": {\"type\": \"quantitative\", \"field\": \"max_age\"}, \"y\": {\"type\": \"quantitative\", \"field\": \"fraction\"}}, \"$schema\": \"https://vega.github.io/schema/vega-lite/v4.8.1.json\", \"datasets\": {\"data-a2a004e8ffe84ee07032be3af807f226\": [{\"max_age\": 5, \"virus\": \"flu\", \"variable\": \"hosp_admit_rate\", \"fraction\": 0.122875}, {\"max_age\": 17, \"virus\": \"flu\", \"variable\": \"hosp_admit_rate\", \"fraction\": 0.07436100000000001}, {\"max_age\": 49, \"virus\": \"flu\", \"variable\": \"hosp_admit_rate\", \"fraction\": 0.0319}, {\"max_age\": 64, \"virus\": \"flu\", \"variable\": \"hosp_admit_rate\", \"fraction\": 0.06289600000000001}, {\"max_age\": 100, \"virus\": \"flu\", \"variable\": \"hosp_admit_rate\", \"fraction\": 0.032824}, {\"max_age\": 10, \"virus\": \"covid\", \"variable\": \"hosp_admit_rate\", \"fraction\": 0.022186147186147188}, {\"max_age\": 20, \"virus\": \"covid\", \"variable\": \"hosp_admit_rate\", \"fraction\": 0.015427215189873418}, {\"max_age\": 30, \"virus\": \"covid\", \"variable\": \"hosp_admit_rate\", \"fraction\": 0.022854582119650458}, {\"max_age\": 40, \"virus\": \"covid\", \"variable\": \"hosp_admit_rate\", \"fraction\": 0.04359946476360393}, {\"max_age\": 50, \"virus\": \"covid\", \"variable\": \"hosp_admit_rate\", \"fraction\": 0.07047994740302432}, {\"max_age\": 60, \"virus\": \"covid\", \"variable\": \"hosp_admit_rate\", \"fraction\": 0.10137863807269183}, {\"max_age\": 70, \"virus\": \"covid\", \"variable\": \"hosp_admit_rate\", \"fraction\": 0.20324675324675326}, {\"max_age\": 80, \"virus\": \"covid\", \"variable\": \"hosp_admit_rate\", \"fraction\": 0.3537099494097808}, {\"max_age\": 90, \"virus\": \"covid\", \"variable\": \"hosp_admit_rate\", \"fraction\": 0.43340857787810383}, {\"max_age\": 100, \"virus\": \"covid\", \"variable\": \"hosp_admit_rate\", \"fraction\": 0.3548951048951049}, {\"max_age\": 5, \"virus\": \"flu\", \"variable\": \"death_rate\", \"fraction\": 1.3000000000000001e-05}, {\"max_age\": 17, \"virus\": \"flu\", \"variable\": \"death_rate\", \"fraction\": 4e-06}, {\"max_age\": 49, \"virus\": \"flu\", \"variable\": \"death_rate\", \"fraction\": 1.8e-05}, {\"max_age\": 64, \"virus\": \"flu\", \"variable\": \"death_rate\", \"fraction\": 9e-05}, {\"max_age\": 100, \"virus\": \"flu\", \"variable\": \"death_rate\", \"fraction\": 0.000487}, {\"max_age\": 10, \"virus\": \"covid\", \"variable\": \"death_rate\", \"fraction\": 0.0}, {\"max_age\": 20, \"virus\": \"covid\", \"variable\": \"death_rate\", \"fraction\": 0.0}, {\"max_age\": 30, \"virus\": \"covid\", \"variable\": \"death_rate\", \"fraction\": 0.0005975054148928225}, {\"max_age\": 40, \"virus\": \"covid\", \"variable\": \"death_rate\", \"fraction\": 0.0012265834076717217}, {\"max_age\": 50, \"virus\": \"covid\", \"variable\": \"death_rate\", \"fraction\": 0.004076265614727153}, {\"max_age\": 60, \"virus\": \"covid\", \"variable\": \"death_rate\", \"fraction\": 0.009608689597549088}, {\"max_age\": 70, \"virus\": \"covid\", \"variable\": \"death_rate\", \"fraction\": 0.03354978354978355}, {\"max_age\": 80, \"virus\": \"covid\", \"variable\": \"death_rate\", \"fraction\": 0.10075885328836424}, {\"max_age\": 90, \"virus\": \"covid\", \"variable\": \"death_rate\", \"fraction\": 0.1835966892400301}, {\"max_age\": 100, \"virus\": \"covid\", \"variable\": \"death_rate\", \"fraction\": 0.3094405594405594}]}}, {\"mode\": \"vega-lite\"});\n",
       "</script>"
      ],
      "text/plain": [
       "alt.Chart(...)"
      ]
     },
     "execution_count": 37,
     "metadata": {},
     "output_type": "execute_result"
    }
   ],
   "source": [
    "import altair as alt\n",
    "kwargs = dict(\n",
    "    x=\"max_age\",\n",
    "    color=\"virus\",\n",
    ")\n",
    "alt.Chart(show).mark_line(interpolate='step-after').encode(\n",
    "    x=\"max_age\",\n",
    "    y=alt.Y(\"fraction\"),#, scale=alt.Scale(type=\"log\")),\n",
    "    color=\"virus\",\n",
    "    column=\"variable\",\n",
    ")"
   ]
  },
  {
   "cell_type": "markdown",
   "metadata": {},
   "source": [
    "WI population pyramid: https://worldpopulationreview.com/states/wisconsin-population"
   ]
  },
  {
   "cell_type": "markdown",
   "metadata": {},
   "source": [
    "https://data.census.gov/cedsci/table?tid=ACSST5Y2018.S0101&g=0400000US55"
   ]
  },
  {
   "cell_type": "code",
   "execution_count": 66,
   "metadata": {},
   "outputs": [
    {
     "data": {
      "text/plain": [
       "<matplotlib.axes._subplots.AxesSubplot at 0x11ba6b290>"
      ]
     },
     "execution_count": 66,
     "metadata": {},
     "output_type": "execute_result"
    },
    {
     "data": {
      "image/png": "[encoded data removed]",
      "text/plain": [
       "<Figure size 432x288 with 1 Axes>"
      ]
     },
     "metadata": {
      "image/png": {
       "height": 251,
       "width": 375
      },
      "needs_background": "light"
     },
     "output_type": "display_data"
    }
   ],
   "source": [
    "wi = {\n",
    "    0: 335.9 + 357.7,\n",
    "    10: 370.49 + 381.1,\n",
    "    20: 402.2 + 361.46,\n",
    "    30: 368.4 + 358.16,\n",
    "    40: 338.2 + 365.8,\n",
    "    50: 411.8 + 424.779,\n",
    "    60: 379.49 + 308.941,\n",
    "    70: 218.4 + 156.6,\n",
    "    80: 114.686 + 126.0 / 2,\n",
    "    90: 126.0 / 2,\n",
    "}"
   ]
  },
  {
   "cell_type": "code",
   "execution_count": 43,
   "metadata": {},
   "outputs": [],
   "source": [
    "# dead / positive\n",
    "# in_hosp / positive\n",
    "# in_icu / positive\n",
    "# positive / wi_population"
   ]
  },
  {
   "cell_type": "code",
   "execution_count": 44,
   "metadata": {},
   "outputs": [
    {
     "data": {
      "text/plain": [
       "MultiIndex([(        'dead',  0),\n",
       "            (        'dead', 10),\n",
       "            (        'dead', 20),\n",
       "            (        'dead', 30),\n",
       "            (        'dead', 40),\n",
       "            (        'dead', 50),\n",
       "            (        'dead', 60),\n",
       "            (        'dead', 70),\n",
       "            (        'dead', 80),\n",
       "            (        'dead', 90),\n",
       "            (  'hosp_admit',  0),\n",
       "            (  'hosp_admit', 10),\n",
       "            (  'hosp_admit', 20),\n",
       "            (  'hosp_admit', 30),\n",
       "            (  'hosp_admit', 40),\n",
       "            (  'hosp_admit', 50),\n",
       "            (  'hosp_admit', 60),\n",
       "            (  'hosp_admit', 70),\n",
       "            (  'hosp_admit', 80),\n",
       "            (  'hosp_admit', 90),\n",
       "            (  'hosp_never',  0),\n",
       "            (  'hosp_never', 10),\n",
       "            (  'hosp_never', 20),\n",
       "            (  'hosp_never', 30),\n",
       "            (  'hosp_never', 40),\n",
       "            (  'hosp_never', 50),\n",
       "            (  'hosp_never', 60),\n",
       "            (  'hosp_never', 70),\n",
       "            (  'hosp_never', 80),\n",
       "            (  'hosp_never', 90),\n",
       "            ('hosp_unknown',  0),\n",
       "            ('hosp_unknown', 10),\n",
       "            ('hosp_unknown', 20),\n",
       "            ('hosp_unknown', 30),\n",
       "            ('hosp_unknown', 40),\n",
       "            ('hosp_unknown', 50),\n",
       "            ('hosp_unknown', 60),\n",
       "            ('hosp_unknown', 70),\n",
       "            ('hosp_unknown', 80),\n",
       "            ('hosp_unknown', 90),\n",
       "            (   'icu_admin',  0),\n",
       "            (   'icu_admin', 10),\n",
       "            (   'icu_admin', 20),\n",
       "            (   'icu_admin', 30),\n",
       "            (   'icu_admin', 40),\n",
       "            (   'icu_admin', 50),\n",
       "            (   'icu_admin', 60),\n",
       "            (   'icu_admin', 70),\n",
       "            (   'icu_admin', 80),\n",
       "            (   'icu_admin', 90),\n",
       "            (    'positive',  0),\n",
       "            (    'positive', 10),\n",
       "            (    'positive', 20),\n",
       "            (    'positive', 30),\n",
       "            (    'positive', 40),\n",
       "            (    'positive', 50),\n",
       "            (    'positive', 60),\n",
       "            (    'positive', 70),\n",
       "            (    'positive', 80),\n",
       "            (    'positive', 90)],\n",
       "           names=['variable', 'age'])"
      ]
     },
     "execution_count": 44,
     "metadata": {},
     "output_type": "execute_result"
    }
   ],
   "source": [
    "show.columns"
   ]
  },
  {
   "cell_type": "code",
   "execution_count": null,
   "metadata": {},
   "outputs": [],
   "source": []
  }
 ],
 "metadata": {
  "kernelspec": {
   "display_name": "Python 3",
   "language": "python",
   "name": "python3"
  },
  "language_info": {
   "codemirror_mode": {
    "name": "ipython",
    "version": 3
   },
   "file_extension": ".py",
   "mimetype": "text/x-python",
   "name": "python",
   "nbconvert_exporter": "python",
   "pygments_lexer": "ipython3",
   "version": "3.7.4"
  }
 },
 "nbformat": 4,
 "nbformat_minor": 4
}
