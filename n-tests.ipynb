{
 "cells": [
  {
   "cell_type": "code",
   "execution_count": 1,
   "metadata": {},
   "outputs": [],
   "source": [
    "import pandas as pd"
   ]
  },
  {
   "cell_type": "code",
   "execution_count": 2,
   "metadata": {},
   "outputs": [],
   "source": [
    "from selenium import webdriver\n",
    "from selenium.webdriver.common.keys import Keys\n",
    "from selenium.webdriver import FirefoxOptions\n",
    "\n",
    "def get_html(url, driver=None):\n",
    "    _driver = driver\n",
    "    if driver is None:\n",
    "        _driver = webdriver.Firefox()\n",
    "    _driver.get(url)\n",
    "    html = _driver.find_element_by_tag_name(\"html\").get_attribute(\"innerHTML\")\n",
    "    if driver is None:\n",
    "        _driver.close()\n",
    "    return html"
   ]
  },
  {
   "cell_type": "code",
   "execution_count": 3,
   "metadata": {},
   "outputs": [
    {
     "name": "stdout",
     "output_type": "stream",
     "text": [
      "entering\n"
     ]
    }
   ],
   "source": [
    "opts = FirefoxOptions()\n",
    "opts.headless = True\n",
    "driver = webdriver.Firefox(options=opts)\n",
    "print(\"entering\")\n",
    "raw_html = get_html(\"https://www.worldometers.info/coronavirus/country/us/\", driver=driver)\n",
    "driver.close()"
   ]
  },
  {
   "cell_type": "code",
   "execution_count": 4,
   "metadata": {},
   "outputs": [],
   "source": [
    "dfs = pd.read_html(raw_html)"
   ]
  },
  {
   "cell_type": "code",
   "execution_count": 5,
   "metadata": {},
   "outputs": [
    {
     "data": {
      "text/html": [
       "<div>\n",
       "<style scoped>\n",
       "    .dataframe tbody tr th:only-of-type {\n",
       "        vertical-align: middle;\n",
       "    }\n",
       "\n",
       "    .dataframe tbody tr th {\n",
       "        vertical-align: top;\n",
       "    }\n",
       "\n",
       "    .dataframe thead th {\n",
       "        text-align: right;\n",
       "    }\n",
       "</style>\n",
       "<table border=\"1\" class=\"dataframe\">\n",
       "  <thead>\n",
       "    <tr style=\"text-align: right;\">\n",
       "      <th></th>\n",
       "      <th>state</th>\n",
       "      <th>cases</th>\n",
       "      <th>new_cases</th>\n",
       "      <th>deaths</th>\n",
       "      <th>new_deaths</th>\n",
       "      <th>active_cases</th>\n",
       "      <th>case_density</th>\n",
       "      <th>death_density</th>\n",
       "      <th>tests</th>\n",
       "      <th>test_density</th>\n",
       "      <th>source</th>\n",
       "      <th>positive_test_rate</th>\n",
       "    </tr>\n",
       "  </thead>\n",
       "  <tbody>\n",
       "    <tr>\n",
       "      <th>1</th>\n",
       "      <td>New York</td>\n",
       "      <td>123018</td>\n",
       "      <td>NaN</td>\n",
       "      <td>4159.0</td>\n",
       "      <td>NaN</td>\n",
       "      <td>106672</td>\n",
       "      <td>6271.0</td>\n",
       "      <td>212.0</td>\n",
       "      <td>302280</td>\n",
       "      <td>15408.0</td>\n",
       "      <td>[1] [2] [3] [4] [5] [6] [7] [8] [9] [10]</td>\n",
       "      <td>40.696705</td>\n",
       "    </tr>\n",
       "    <tr>\n",
       "      <th>2</th>\n",
       "      <td>New Jersey</td>\n",
       "      <td>37505</td>\n",
       "      <td>NaN</td>\n",
       "      <td>917.0</td>\n",
       "      <td>NaN</td>\n",
       "      <td>36496</td>\n",
       "      <td>4223.0</td>\n",
       "      <td>103.0</td>\n",
       "      <td>82166</td>\n",
       "      <td>9251.0</td>\n",
       "      <td>[1] [2]</td>\n",
       "      <td>45.645401</td>\n",
       "    </tr>\n",
       "    <tr>\n",
       "      <th>3</th>\n",
       "      <td>Michigan</td>\n",
       "      <td>15718</td>\n",
       "      <td>NaN</td>\n",
       "      <td>617.0</td>\n",
       "      <td>NaN</td>\n",
       "      <td>15032</td>\n",
       "      <td>1579.0</td>\n",
       "      <td>62.0</td>\n",
       "      <td>45748</td>\n",
       "      <td>4594.0</td>\n",
       "      <td>[1] [2] [3]</td>\n",
       "      <td>34.357786</td>\n",
       "    </tr>\n",
       "    <tr>\n",
       "      <th>4</th>\n",
       "      <td>California</td>\n",
       "      <td>15201</td>\n",
       "      <td>+164</td>\n",
       "      <td>350.0</td>\n",
       "      <td>3.0</td>\n",
       "      <td>13951</td>\n",
       "      <td>388.0</td>\n",
       "      <td>9.0</td>\n",
       "      <td>116533</td>\n",
       "      <td>2977.0</td>\n",
       "      <td>[1] [2]</td>\n",
       "      <td>13.044374</td>\n",
       "    </tr>\n",
       "    <tr>\n",
       "      <th>5</th>\n",
       "      <td>Florida</td>\n",
       "      <td>13324</td>\n",
       "      <td>+974</td>\n",
       "      <td>236.0</td>\n",
       "      <td>15.0</td>\n",
       "      <td>12988</td>\n",
       "      <td>647.0</td>\n",
       "      <td>11.0</td>\n",
       "      <td>116898</td>\n",
       "      <td>5675.0</td>\n",
       "      <td>[1] [2]</td>\n",
       "      <td>11.397971</td>\n",
       "    </tr>\n",
       "  </tbody>\n",
       "</table>\n",
       "</div>"
      ],
      "text/plain": [
       "        state   cases new_cases  deaths  new_deaths  active_cases  \\\n",
       "1    New York  123018       NaN  4159.0         NaN        106672   \n",
       "2  New Jersey   37505       NaN   917.0         NaN         36496   \n",
       "3    Michigan   15718       NaN   617.0         NaN         15032   \n",
       "4  California   15201      +164   350.0         3.0         13951   \n",
       "5     Florida   13324      +974   236.0        15.0         12988   \n",
       "\n",
       "   case_density  death_density   tests  test_density  \\\n",
       "1        6271.0          212.0  302280       15408.0   \n",
       "2        4223.0          103.0   82166        9251.0   \n",
       "3        1579.0           62.0   45748        4594.0   \n",
       "4         388.0            9.0  116533        2977.0   \n",
       "5         647.0           11.0  116898        5675.0   \n",
       "\n",
       "                                     source  positive_test_rate  \n",
       "1  [1] [2] [3] [4] [5] [6] [7] [8] [9] [10]           40.696705  \n",
       "2                                   [1] [2]           45.645401  \n",
       "3                               [1] [2] [3]           34.357786  \n",
       "4                                   [1] [2]           13.044374  \n",
       "5                                   [1] [2]           11.397971  "
      ]
     },
     "execution_count": 5,
     "metadata": {},
     "output_type": "execute_result"
    }
   ],
   "source": [
    "df = dfs[0]\n",
    "df.columns = [\"state\", \"cases\", \"new_cases\", \"deaths\", \"new_deaths\", \"active_cases\", \"case_density\", \"death_density\", \"tests\", \"test_density\", \"source\"]\n",
    "\n",
    "idx = df.state.apply(lambda x: any(t in x.lower() for t in [\"total\", \"wuhan\", \"princess\", \"islands\", \"rico\", \"guam\"]))\n",
    "df = df[~idx].copy()\n",
    "df[\"positive_test_rate\"] = 100 * df[\"cases\"] / df[\"tests\"]\n",
    "\n",
    "df.head()"
   ]
  },
  {
   "cell_type": "code",
   "execution_count": 6,
   "metadata": {},
   "outputs": [
    {
     "data": {
      "text/plain": [
       "state                  object\n",
       "cases                   int64\n",
       "new_cases              object\n",
       "deaths                float64\n",
       "new_deaths            float64\n",
       "active_cases            int64\n",
       "case_density          float64\n",
       "death_density         float64\n",
       "tests                   int64\n",
       "test_density          float64\n",
       "source                 object\n",
       "positive_test_rate    float64\n",
       "dtype: object"
      ]
     },
     "execution_count": 6,
     "metadata": {},
     "output_type": "execute_result"
    }
   ],
   "source": [
    "df.dtypes"
   ]
  },
  {
   "cell_type": "markdown",
   "metadata": {},
   "source": [
    "Want a time series:\n",
    "\n",
    "* x: n_tests\n",
    "* y: positive_test_rate\n",
    "* (curve parameterized by time)\n",
    "* select: state"
   ]
  },
  {
   "cell_type": "code",
   "execution_count": 7,
   "metadata": {},
   "outputs": [
    {
     "data": {
      "text/html": [
       "\n",
       "<div id=\"altair-viz-5ea1dab6d83d40959e57c0a5e09ea1fd\"></div>\n",
       "<script type=\"text/javascript\">\n",
       "  (function(spec, embedOpt){\n",
       "    const outputDiv = document.getElementById(\"altair-viz-5ea1dab6d83d40959e57c0a5e09ea1fd\");\n",
       "    const paths = {\n",
       "      \"vega\": \"https://cdn.jsdelivr.net/npm//vega@5?noext\",\n",
       "      \"vega-lib\": \"https://cdn.jsdelivr.net/npm//vega-lib?noext\",\n",
       "      \"vega-lite\": \"https://cdn.jsdelivr.net/npm//vega-lite@4.0.2?noext\",\n",
       "      \"vega-embed\": \"https://cdn.jsdelivr.net/npm//vega-embed@6?noext\",\n",
       "    };\n",
       "\n",
       "    function loadScript(lib) {\n",
       "      return new Promise(function(resolve, reject) {\n",
       "        var s = document.createElement('script');\n",
       "        s.src = paths[lib];\n",
       "        s.async = true;\n",
       "        s.onload = () => resolve(paths[lib]);\n",
       "        s.onerror = () => reject(`Error loading script: ${paths[lib]}`);\n",
       "        document.getElementsByTagName(\"head\")[0].appendChild(s);\n",
       "      });\n",
       "    }\n",
       "\n",
       "    function showError(err) {\n",
       "      outputDiv.innerHTML = `<div class=\"error\" style=\"color:red;\">${err}</div>`;\n",
       "      throw err;\n",
       "    }\n",
       "\n",
       "    function displayChart(vegaEmbed) {\n",
       "      vegaEmbed(outputDiv, spec, embedOpt)\n",
       "        .catch(err => showError(`Javascript Error: ${err.message}<br>This usually means there's a typo in your chart specification. See the javascript console for the full traceback.`));\n",
       "    }\n",
       "\n",
       "    if(typeof define === \"function\" && define.amd) {\n",
       "      requirejs.config({paths});\n",
       "      require([\"vega-embed\"], displayChart, err => showError(`Error loading script: ${err.message}`));\n",
       "    } else if (typeof vegaEmbed === \"function\") {\n",
       "      displayChart(vegaEmbed);\n",
       "    } else {\n",
       "      loadScript(\"vega\")\n",
       "        .then(() => loadScript(\"vega-lite\"))\n",
       "        .then(() => loadScript(\"vega-embed\"))\n",
       "        .catch(showError)\n",
       "        .then(() => displayChart(vegaEmbed));\n",
       "    }\n",
       "  })({\"config\": {\"view\": {\"continuousWidth\": 400, \"continuousHeight\": 300}}, \"data\": {\"name\": \"data-db326f0e77ef2db102edbca8cb3a33b9\"}, \"mark\": \"text\", \"encoding\": {\"text\": {\"type\": \"nominal\", \"field\": \"state\"}, \"x\": {\"type\": \"quantitative\", \"field\": \"tests\", \"scale\": {\"type\": \"log\"}}, \"y\": {\"type\": \"quantitative\", \"field\": \"positive_test_rate\"}}, \"$schema\": \"https://vega.github.io/schema/vega-lite/v4.0.2.json\", \"datasets\": {\"data-db326f0e77ef2db102edbca8cb3a33b9\": [{\"state\": \"New York\", \"cases\": 123018, \"new_cases\": null, \"deaths\": 4159.0, \"new_deaths\": null, \"active_cases\": 106672, \"case_density\": 6271.0, \"death_density\": 212.0, \"tests\": 302280, \"test_density\": 15408.0, \"source\": \"[1]\\u00a0[2]\\u00a0[3]\\u00a0[4]\\u00a0[5]\\u00a0[6]\\u00a0[7]\\u00a0[8]\\u00a0[9]\\u00a0[10]\", \"positive_test_rate\": 40.69670504168321}, {\"state\": \"New Jersey\", \"cases\": 37505, \"new_cases\": null, \"deaths\": 917.0, \"new_deaths\": null, \"active_cases\": 36496, \"case_density\": 4223.0, \"death_density\": 103.0, \"tests\": 82166, \"test_density\": 9251.0, \"source\": \"[1]\\u00a0[2]\", \"positive_test_rate\": 45.64540077404279}, {\"state\": \"Michigan\", \"cases\": 15718, \"new_cases\": null, \"deaths\": 617.0, \"new_deaths\": null, \"active_cases\": 15032, \"case_density\": 1579.0, \"death_density\": 62.0, \"tests\": 45748, \"test_density\": 4594.0, \"source\": \"[1]\\u00a0[2]\\u00a0[3]\", \"positive_test_rate\": 34.357786132727114}, {\"state\": \"California\", \"cases\": 15201, \"new_cases\": \"+164\", \"deaths\": 350.0, \"new_deaths\": 3.0, \"active_cases\": 13951, \"case_density\": 388.0, \"death_density\": 9.0, \"tests\": 116533, \"test_density\": 2977.0, \"source\": \"[1]\\u00a0[2]\", \"positive_test_rate\": 13.0443736967211}, {\"state\": \"Florida\", \"cases\": 13324, \"new_cases\": \"+974\", \"deaths\": 236.0, \"new_deaths\": 15.0, \"active_cases\": 12988, \"case_density\": 647.0, \"death_density\": 11.0, \"tests\": 116898, \"test_density\": 5675.0, \"source\": \"[1]\\u00a0[2]\", \"positive_test_rate\": 11.397970880596759}, {\"state\": \"Louisiana\", \"cases\": 13010, \"new_cases\": null, \"deaths\": 477.0, \"new_deaths\": null, \"active_cases\": 12483, \"case_density\": 2790.0, \"death_density\": 102.0, \"tests\": 60325, \"test_density\": 12935.0, \"source\": \"[1]\", \"positive_test_rate\": 21.566514711976794}, {\"state\": \"Massachusetts\", \"cases\": 12500, \"new_cases\": null, \"deaths\": 231.0, \"new_deaths\": null, \"active_cases\": 12259, \"case_density\": 1830.0, \"death_density\": 34.0, \"tests\": 71937, \"test_density\": 10532.0, \"source\": \"[1]\\u00a0[2]\", \"positive_test_rate\": 17.3763153870748}, {\"state\": \"Pennsylvania\", \"cases\": 11510, \"new_cases\": null, \"deaths\": 150.0, \"new_deaths\": null, \"active_cases\": 11284, \"case_density\": 900.0, \"death_density\": 12.0, \"tests\": 77771, \"test_density\": 6080.0, \"source\": \"[1]\\u00a0[2]\\u00a0[3]\\u00a0[4]\", \"positive_test_rate\": 14.79986113075568}, {\"state\": \"Illinois\", \"cases\": 11256, \"new_cases\": null, \"deaths\": 274.0, \"new_deaths\": null, \"active_cases\": 10932, \"case_density\": 878.0, \"death_density\": 21.0, \"tests\": 58983, \"test_density\": 4600.0, \"source\": \"[1]\\u00a0[2]\\u00a0[3]\\u00a0[4]\", \"positive_test_rate\": 19.083464727124763}, {\"state\": \"Washington\", \"cases\": 7984, \"new_cases\": null, \"deaths\": 338.0, \"new_deaths\": null, \"active_cases\": 7022, \"case_density\": 1095.0, \"death_density\": 46.0, \"tests\": 87911, \"test_density\": 12052.0, \"source\": \"[1]\\u00a0[2]\\u00a0[3]\\u00a0[4]\\u00a0[5]\\u00a0[6]\\u00a0[7]\\u00a0[8]\\u00a0[9]\\u00a0[10]\\u00a0[11]\\u00a0[12]\", \"positive_test_rate\": 9.08191238866581}, {\"state\": \"Georgia\", \"cases\": 7314, \"new_cases\": \"+572\", \"deaths\": 229.0, \"new_deaths\": 10.0, \"active_cases\": 7054, \"case_density\": 710.0, \"death_density\": 22.0, \"tests\": 31274, \"test_density\": 3037.0, \"source\": \"[1]\\u00a0[2]\\u00a0[3]\", \"positive_test_rate\": 23.38683890771887}, {\"state\": \"Texas\", \"cases\": 7094, \"new_cases\": \"+49\", \"deaths\": 137.0, \"new_deaths\": 4.0, \"active_cases\": 6282, \"case_density\": 254.0, \"death_density\": 5.0, \"tests\": 70938, \"test_density\": 2544.0, \"source\": \"[1]\\u00a0[2]\\u00a0[3]\\u00a0[4]\\u00a0[5]\\u00a0[6]\\u00a0[7]\\u00a0[8]\", \"positive_test_rate\": 10.000281936338775}, {\"state\": \"Connecticut\", \"cases\": 5675, \"new_cases\": null, \"deaths\": 189.0, \"new_deaths\": null, \"active_cases\": 5436, \"case_density\": 1585.0, \"death_density\": 53.0, \"tests\": 23270, \"test_density\": 6497.0, \"source\": \"[1]\\u00a0[2]\\u00a0[3]\", \"positive_test_rate\": 24.38762354963472}, {\"state\": \"Colorado\", \"cases\": 4950, \"new_cases\": null, \"deaths\": 140.0, \"new_deaths\": null, \"active_cases\": 4770, \"case_density\": 895.0, \"death_density\": 25.0, \"tests\": 25773, \"test_density\": 4660.0, \"source\": \"[1]\", \"positive_test_rate\": 19.206145966709347}, {\"state\": \"Indiana\", \"cases\": 4944, \"new_cases\": \"+533\", \"deaths\": 139.0, \"new_deaths\": 12.0, \"active_cases\": 4791, \"case_density\": 745.0, \"death_density\": 21.0, \"tests\": 26191, \"test_density\": 3946.0, \"source\": \"[1]\\u00a0[2]\", \"positive_test_rate\": 18.876713374823414}, {\"state\": \"Maryland\", \"cases\": 4045, \"new_cases\": \"+436\", \"deaths\": 91.0, \"new_deaths\": 24.0, \"active_cases\": 3770, \"case_density\": 674.0, \"death_density\": 15.0, \"tests\": 29617, \"test_density\": 4933.0, \"source\": \"[1]\", \"positive_test_rate\": 13.65769659317284}, {\"state\": \"Ohio\", \"cases\": 4043, \"new_cases\": null, \"deaths\": 119.0, \"new_deaths\": null, \"active_cases\": 3924, \"case_density\": 347.0, \"death_density\": 10.0, \"tests\": 43756, \"test_density\": 3758.0, \"source\": \"[1]\", \"positive_test_rate\": 9.239875674193254}, {\"state\": \"Tennessee\", \"cases\": 3633, \"new_cases\": null, \"deaths\": 44.0, \"new_deaths\": null, \"active_cases\": 3294, \"case_density\": 546.0, \"death_density\": 7.0, \"tests\": 45300, \"test_density\": 6811.0, \"source\": \"[1]\\u00a0[2]\\u00a0[3]\\u00a0[4]\", \"positive_test_rate\": 8.019867549668874}, {\"state\": \"North Carolina\", \"cases\": 2901, \"new_cases\": \"+238\", \"deaths\": 42.0, \"new_deaths\": 4.0, \"active_cases\": 2773, \"case_density\": 286.0, \"death_density\": 4.0, \"tests\": 40045, \"test_density\": 3943.0, \"source\": \"[1]\\u00a0[2]\", \"positive_test_rate\": 7.244350106130603}, {\"state\": \"Virginia\", \"cases\": 2878, \"new_cases\": \"+241\", \"deaths\": 54.0, \"new_deaths\": 3.0, \"active_cases\": 2822, \"case_density\": 342.0, \"death_density\": 6.0, \"tests\": 23671, \"test_density\": 2813.0, \"source\": \"[1]\", \"positive_test_rate\": 12.158337205863715}, {\"state\": \"Missouri\", \"cases\": 2367, \"new_cases\": null, \"deaths\": 52.0, \"new_deaths\": 3.0, \"active_cases\": 2303, \"case_density\": 389.0, \"death_density\": 9.0, \"tests\": 27173, \"test_density\": 4462.0, \"source\": \"[1]\\u00a0[2]\", \"positive_test_rate\": 8.710852684650204}, {\"state\": \"Arizona\", \"cases\": 2269, \"new_cases\": null, \"deaths\": 64.0, \"new_deaths\": null, \"active_cases\": 2185, \"case_density\": 327.0, \"death_density\": 9.0, \"tests\": 27410, \"test_density\": 3946.0, \"source\": \"[1]\", \"positive_test_rate\": 8.278000729660707}, {\"state\": \"Wisconsin\", \"cases\": 2267, \"new_cases\": null, \"deaths\": 68.0, \"new_deaths\": null, \"active_cases\": 2197, \"case_density\": 392.0, \"death_density\": 12.0, \"tests\": 25971, \"test_density\": 4495.0, \"source\": \"[1]\\u00a0[2]\\u00a0[3]\\u00a0[4]\", \"positive_test_rate\": 8.728966924646722}, {\"state\": \"South Carolina\", \"cases\": 2049, \"new_cases\": null, \"deaths\": 44.0, \"new_deaths\": null, \"active_cases\": 2005, \"case_density\": 413.0, \"death_density\": 9.0, \"tests\": 18976, \"test_density\": 3829.0, \"source\": \"[1]\", \"positive_test_rate\": 10.797849915682969}, {\"state\": \"Nevada\", \"cases\": 1953, \"new_cases\": \"+117\", \"deaths\": 46.0, \"new_deaths\": null, \"active_cases\": 1871, \"case_density\": 668.0, \"death_density\": 16.0, \"tests\": 19908, \"test_density\": 6811.0, \"source\": \"[1]\\u00a0[2]\", \"positive_test_rate\": 9.810126582278482}, {\"state\": \"Alabama\", \"cases\": 1842, \"new_cases\": \"+1\", \"deaths\": 45.0, \"new_deaths\": null, \"active_cases\": 1777, \"case_density\": 379.0, \"death_density\": 9.0, \"tests\": 13078, \"test_density\": 2688.0, \"source\": \"[1]\", \"positive_test_rate\": 14.08472243462303}, {\"state\": \"Mississippi\", \"cases\": 1738, \"new_cases\": \"+100\", \"deaths\": 51.0, \"new_deaths\": 8.0, \"active_cases\": 1687, \"case_density\": 582.0, \"death_density\": 17.0, \"tests\": 20370, \"test_density\": 6816.0, \"source\": \"[1]\", \"positive_test_rate\": 8.532155130093274}, {\"state\": \"Utah\", \"cases\": 1605, \"new_cases\": null, \"deaths\": 8.0, \"new_deaths\": null, \"active_cases\": 1586, \"case_density\": 527.0, \"death_density\": 3.0, \"tests\": 30892, \"test_density\": 10144.0, \"source\": \"[1]\", \"positive_test_rate\": 5.1955198756959735}, {\"state\": \"Oklahoma\", \"cases\": 1327, \"new_cases\": \"+75\", \"deaths\": 51.0, \"new_deaths\": 5.0, \"active_cases\": 893, \"case_density\": 339.0, \"death_density\": 13.0, \"tests\": 2751, \"test_density\": 702.0, \"source\": \"[1]\", \"positive_test_rate\": 48.23700472555434}, {\"state\": \"Idaho\", \"cases\": 1101, \"new_cases\": null, \"deaths\": 10.0, \"new_deaths\": null, \"active_cases\": 1091, \"case_density\": 652.0, \"death_density\": 6.0, \"tests\": 10261, \"test_density\": 6079.0, \"source\": \"[1]\\u00a0[2]\\u00a0[3]\", \"positive_test_rate\": 10.729948348114219}, {\"state\": \"District Of Columbia\", \"cases\": 1097, \"new_cases\": \"+99\", \"deaths\": 24.0, \"new_deaths\": 2.0, \"active_cases\": 815, \"case_density\": 1603.0, \"death_density\": 35.0, \"tests\": 7453, \"test_density\": 10888.0, \"source\": \"[1]\", \"positive_test_rate\": 14.718905138870253}, {\"state\": \"Oregon\", \"cases\": 1068, \"new_cases\": null, \"deaths\": 27.0, \"new_deaths\": null, \"active_cases\": 1041, \"case_density\": 262.0, \"death_density\": 7.0, \"tests\": 20624, \"test_density\": 5052.0, \"source\": \"[1]\\u00a0[2]\\u00a0[3]\", \"positive_test_rate\": 5.178432893716059}, {\"state\": \"Kentucky\", \"cases\": 955, \"new_cases\": null, \"deaths\": 45.0, \"new_deaths\": null, \"active_cases\": 604, \"case_density\": 215.0, \"death_density\": 10.0, \"tests\": 18767, \"test_density\": 4227.0, \"source\": \"[1]\\u00a0[2]\", \"positive_test_rate\": 5.088719560931422}, {\"state\": \"Minnesota\", \"cases\": 935, \"new_cases\": null, \"deaths\": 29.0, \"new_deaths\": null, \"active_cases\": 455, \"case_density\": 169.0, \"death_density\": 5.0, \"tests\": 26777, \"test_density\": 4844.0, \"source\": \"[1]\\u00a0[2]\", \"positive_test_rate\": 3.491802666467491}, {\"state\": \"Rhode Island\", \"cases\": 922, \"new_cases\": null, \"deaths\": 25.0, \"new_deaths\": null, \"active_cases\": 887, \"case_density\": 873.0, \"death_density\": 24.0, \"tests\": 8102, \"test_density\": 7668.0, \"source\": \"[1]\\u00a0[2]\\u00a0[3]\\u00a0[4]\", \"positive_test_rate\": 11.379906196000988}, {\"state\": \"Iowa\", \"cases\": 868, \"new_cases\": null, \"deaths\": 22.0, \"new_deaths\": null, \"active_cases\": 778, \"case_density\": 277.0, \"death_density\": 7.0, \"tests\": 10841, \"test_density\": 3461.0, \"source\": \"[1]\\u00a0[2]\\u00a0[3]\\u00a0[4]\", \"positive_test_rate\": 8.00664145374043}, {\"state\": \"Arkansas\", \"cases\": 854, \"new_cases\": \"+17\", \"deaths\": 16.0, \"new_deaths\": null, \"active_cases\": 741, \"case_density\": 286.0, \"death_density\": 5.0, \"tests\": 11780, \"test_density\": 3939.0, \"source\": \"[1]\\u00a0[2]\", \"positive_test_rate\": 7.249575551782683}, {\"state\": \"Kansas\", \"cases\": 747, \"new_cases\": null, \"deaths\": 22.0, \"new_deaths\": null, \"active_cases\": 725, \"case_density\": 257.0, \"death_density\": 8.0, \"tests\": 8223, \"test_density\": 2827.0, \"source\": \"[1]\\u00a0[2]\\u00a0[3]\", \"positive_test_rate\": 9.084275811747537}, {\"state\": \"Delaware\", \"cases\": 673, \"new_cases\": null, \"deaths\": 14.0, \"new_deaths\": null, \"active_cases\": 588, \"case_density\": 709.0, \"death_density\": 15.0, \"tests\": 6994, \"test_density\": 7366.0, \"source\": \"[1]\\u00a0[2]\\u00a0[3]\", \"positive_test_rate\": 9.622533600228767}, {\"state\": \"New Hampshire\", \"cases\": 669, \"new_cases\": null, \"deaths\": 9.0, \"new_deaths\": null, \"active_cases\": 513, \"case_density\": 498.0, \"death_density\": 7.0, \"tests\": 8370, \"test_density\": 6229.0, \"source\": \"[1]\\u00a0[2]\\u00a0[3]\", \"positive_test_rate\": 7.992831541218638}, {\"state\": \"New Mexico\", \"cases\": 624, \"new_cases\": null, \"deaths\": 12.0, \"new_deaths\": null, \"active_cases\": 558, \"case_density\": 298.0, \"death_density\": 6.0, \"tests\": 16909, \"test_density\": 8081.0, \"source\": \"[1]\", \"positive_test_rate\": 3.6903424211958127}, {\"state\": \"Vermont\", \"cases\": 512, \"new_cases\": null, \"deaths\": 22.0, \"new_deaths\": null, \"active_cases\": 490, \"case_density\": 819.0, \"death_density\": 35.0, \"tests\": 6582, \"test_density\": 10532.0, \"source\": \"[1]\", \"positive_test_rate\": 7.77879064114251}, {\"state\": \"Maine\", \"cases\": 499, \"new_cases\": \"+29\", \"deaths\": 10.0, \"new_deaths\": null, \"active_cases\": 331, \"case_density\": 374.0, \"death_density\": 8.0, \"tests\": 6544, \"test_density\": 4910.0, \"source\": \"[1]\\u00a0[2]\", \"positive_test_rate\": 7.625305623471883}, {\"state\": \"Hawaii\", \"cases\": 371, \"new_cases\": null, \"deaths\": 4.0, \"new_deaths\": null, \"active_cases\": 282, \"case_density\": 261.0, \"death_density\": 3.0, \"tests\": 13314, \"test_density\": 9363.0, \"source\": \"[1]\\u00a0[2]\", \"positive_test_rate\": 2.786540483701367}, {\"state\": \"Nebraska\", \"cases\": 367, \"new_cases\": \"+4\", \"deaths\": 8.0, \"new_deaths\": null, \"active_cases\": 359, \"case_density\": 193.0, \"death_density\": 4.0, \"tests\": 6018, \"test_density\": 3159.0, \"source\": \"[1]\\u00a0[2]\\u00a0[3]\", \"positive_test_rate\": 6.098371552010635}, {\"state\": \"West Virginia\", \"cases\": 324, \"new_cases\": null, \"deaths\": 3.0, \"new_deaths\": null, \"active_cases\": 321, \"case_density\": 177.0, \"death_density\": 2.0, \"tests\": 8838, \"test_density\": 4832.0, \"source\": \"[1]\", \"positive_test_rate\": 3.6659877800407332}, {\"state\": \"Montana\", \"cases\": 299, \"new_cases\": \"+1\", \"deaths\": 6.0, \"new_deaths\": null, \"active_cases\": 261, \"case_density\": 287.0, \"death_density\": 6.0, \"tests\": 6789, \"test_density\": 6517.0, \"source\": \"[1]\\u00a0[2]\\u00a0[3]\", \"positive_test_rate\": 4.404183237590219}, {\"state\": \"South Dakota\", \"cases\": 240, \"new_cases\": null, \"deaths\": 4.0, \"new_deaths\": null, \"active_cases\": 152, \"case_density\": 278.0, \"death_density\": 5.0, \"tests\": 5593, \"test_density\": 6471.0, \"source\": \"[1]\\u00a0[2]\", \"positive_test_rate\": 4.291078133381012}, {\"state\": \"Wyoming\", \"cases\": 210, \"new_cases\": \"+10\", \"deaths\": null, \"new_deaths\": null, \"active_cases\": 160, \"case_density\": 361.0, \"death_density\": null, \"tests\": 3929, \"test_density\": 6753.0, \"source\": \"[1]\\u00a0[2]\", \"positive_test_rate\": 5.3448714685670655}, {\"state\": \"North Dakota\", \"cases\": 207, \"new_cases\": null, \"deaths\": 3.0, \"new_deaths\": null, \"active_cases\": 141, \"case_density\": 275.0, \"death_density\": 4.0, \"tests\": 6787, \"test_density\": 9023.0, \"source\": \"[1]\", \"positive_test_rate\": 3.0499484308236333}, {\"state\": \"Alaska\", \"cases\": 185, \"new_cases\": null, \"deaths\": 6.0, \"new_deaths\": null, \"active_cases\": 164, \"case_density\": 251.0, \"death_density\": 8.0, \"tests\": 6284, \"test_density\": 8509.0, \"source\": \"[1]\\u00a0[2]\", \"positive_test_rate\": 2.943984723106302}]}}, {\"mode\": \"vega-lite\"});\n",
       "</script>"
      ],
      "text/plain": [
       "alt.Chart(...)"
      ]
     },
     "execution_count": 7,
     "metadata": {},
     "output_type": "execute_result"
    }
   ],
   "source": [
    "import altair as alt\n",
    "\n",
    "alt.Chart(df).mark_text().encode(\n",
    "    x=alt.X(\"tests\", scale=alt.Scale(type=\"log\")),\n",
    "    y=\"positive_test_rate\",\n",
    "    text=\"state\",\n",
    "#     color=\"positive_test_rate\",\n",
    ")"
   ]
  },
  {
   "cell_type": "code",
   "execution_count": 8,
   "metadata": {},
   "outputs": [
    {
     "name": "stdout",
     "output_type": "stream",
     "text": [
      "entering\n"
     ]
    }
   ],
   "source": [
    "opts = FirefoxOptions()\n",
    "opts.headless = True\n",
    "driver = webdriver.Firefox(options=opts)\n",
    "print(\"entering\")\n",
    "raw_html = get_html(\"https://www.worldometers.info/coronavirus/covid-19-testing/\", driver=driver)\n",
    "driver.close()"
   ]
  },
  {
   "cell_type": "code",
   "execution_count": 9,
   "metadata": {},
   "outputs": [],
   "source": [
    "dfs = pd.read_html(raw_html)"
   ]
  },
  {
   "cell_type": "code",
   "execution_count": 10,
   "metadata": {},
   "outputs": [
    {
     "data": {
      "text/plain": [
       "[              0                1                         2           3  \\\n",
       " 0       Country  Tests Performed  Tests per Million People  Population   \n",
       " 1       Bahrain             8354                      4910     1701575   \n",
       " 2   South Korea           210144                      4099    51269185   \n",
       " 3     Hong Kong            16000                      2134     7496981   \n",
       " 4         Italy            60761                      1005    60461826   \n",
       " 5   Switzerland             5000                       578     8654622   \n",
       " 6       Austria             5026                       558     9006398   \n",
       " 7            UK            26261                       387    67886011   \n",
       " 8       Belgium             3984                       344    11589623   \n",
       " 9     Australia             8278                       325    25499884   \n",
       " 10       Israel             2386                       276     8655535   \n",
       " 11       France            11895                       182    65273511   \n",
       " 12      Finland              720                       130     5540720   \n",
       " 13     Malaysia             3132                        97    32365999   \n",
       " 14        Japan             9600                        76   126476461   \n",
       " 15  Netherlands              600                        35    17134872   \n",
       " 16          USA             8554                        26   331002651   \n",
       " 17      Vietnam             2367                        24    97338579   \n",
       " 18       Turkey              940                        11    84339067   \n",
       " \n",
       "                    4                                             5  \n",
       " 0                NaN                                           NaN  \n",
       " 1           OFFICIAL                                        source  \n",
       " 2           OFFICIAL                                        source  \n",
       " 3          Estimated                                       sources  \n",
       " 4           OFFICIAL                                        source  \n",
       " 5          Estimated                          Mar. 3: 4,000 source  \n",
       " 6           OFFICIAL                                        source  \n",
       " 7           OFFICIAL                                        source  \n",
       " 8          Estimated                  Mar 9: 3,541 OFFICIAL source  \n",
       " 9          Estimated  Mar. 8: 8,278 OFFICIAL PARTIAL source source  \n",
       " 10         Estimated                          Mar. 8: 1,771 source  \n",
       " 11         Estimated                 Mar. 5: 6,610 OFFICIAL source  \n",
       " 12  OFFICIAL Mar. 10                                        source  \n",
       " 13  OFFICIAL Mar. 10                                        source  \n",
       " 14  OFFICIAL Mar. 10                                        source  \n",
       " 15         Estimated                            Mar. 2: 200 source  \n",
       " 16  OFFICIAL Mar. 10                                        source  \n",
       " 17  OFFICIAL Mar. 10                                        source  \n",
       " 18         Estimated              As of Mar 3: 940 OFFICIAL source  ,\n",
       "                0                1                         2           3  \\\n",
       " 0        Country  Tests Performed  Tests per Million People  Population   \n",
       " 1    South Korea           109591                      2138    51269185   \n",
       " 2          Italy            23345                       386    60461826   \n",
       " 3        Austria             2120                       235     9006398   \n",
       " 4    Switzerland             1850                       214     8654622   \n",
       " 5             UK            13525                       199    67886011   \n",
       " 6        Finland              130                        23     5540720   \n",
       " 7        Vietnam             1737                        18    97338579   \n",
       " 8         Turkey              940                        11    84339067   \n",
       " 9  United States             472*                         1   331001651   \n",
       " \n",
       "         4  \n",
       " 0     NaN  \n",
       " 1  source  \n",
       " 2  source  \n",
       " 3  source  \n",
       " 4  source  \n",
       " 5  source  \n",
       " 6  source  \n",
       " 7  source  \n",
       " 8  source  \n",
       " 9  source  ]"
      ]
     },
     "execution_count": 10,
     "metadata": {},
     "output_type": "execute_result"
    }
   ],
   "source": [
    "dfs"
   ]
  },
  {
   "cell_type": "code",
   "execution_count": null,
   "metadata": {},
   "outputs": [],
   "source": []
  }
 ],
 "metadata": {
  "kernelspec": {
   "display_name": "Python 3",
   "language": "python",
   "name": "python3"
  },
  "language_info": {
   "codemirror_mode": {
    "name": "ipython",
    "version": 3
   },
   "file_extension": ".py",
   "mimetype": "text/x-python",
   "name": "python",
   "nbconvert_exporter": "python",
   "pygments_lexer": "ipython3",
   "version": "3.7.4"
  }
 },
 "nbformat": 4,
 "nbformat_minor": 4
}
